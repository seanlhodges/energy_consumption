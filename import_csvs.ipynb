{
 "cells": [
  {
   "cell_type": "code",
   "execution_count": 2,
   "metadata": {},
   "outputs": [
    {
     "name": "stdout",
     "output_type": "stream",
     "text": [
      "Found 119 CSV files.\n",
      "                           date     usage dollars    type\n",
      "0     12:00AM 2nd February 2025  0.20 kWh   $0.11  actual\n",
      "1     01:00AM 2nd February 2025  0.17 kWh   $0.10  actual\n",
      "2     02:00AM 2nd February 2025  0.17 kWh   $0.10  actual\n",
      "3     03:00AM 2nd February 2025  0.18 kWh   $0.11  actual\n",
      "4     04:00AM 2nd February 2025  0.17 kWh   $0.10  actual\n",
      "...                         ...       ...     ...     ...\n",
      "2852     07:00PM 2nd April 2025  0.76 kWh   $0.31  actual\n",
      "2853     08:00PM 2nd April 2025  0.73 kWh   $0.30  actual\n",
      "2854     09:00PM 2nd April 2025  1.02 kWh   $0.40  actual\n",
      "2855     10:00PM 2nd April 2025  0.86 kWh   $0.35  actual\n",
      "2856     11:00PM 2nd April 2025  0.46 kWh   $0.20  actual\n",
      "\n",
      "[2857 rows x 4 columns]\n"
     ]
    }
   ],
   "source": [
    "import pandas as pd\n",
    "import glob\n",
    "import os\n",
    "\n",
    "# Define the path to the Downloads folder\n",
    "downloads_folder = \"/Users/shodges/scripts/genesisenergy/data\"\n",
    "\n",
    "# Define the file pattern to match\n",
    "# Note: The double asterisk (**) is used to match any characters in the filename\n",
    "file_pattern = os.path.join(downloads_folder, 'Genesis*.csv')\n",
    "\n",
    "# Get a list of all matching CSV files\n",
    "csv_files = glob.glob(file_pattern, recursive=True)\n",
    "\n",
    "# Check if any files were found\n",
    "if not csv_files:\n",
    "    print(f\"No CSV files found matching the pattern {file_pattern}\")\n",
    "    exit(1)\n",
    "else:\n",
    "    print(f\"Found {len(csv_files)} CSV files.\")\n",
    "    \n",
    "# Print the list of found files\n",
    "#    for file in csv_files:\n",
    "#        print(file)\n",
    "\n",
    "# Read each CSV file into a DataFrame and store them in a list\n",
    "# Initialize an empty list to store DataFrames\n",
    "dataframes = []\n",
    "\n",
    "# Loop through each CSV file and read it into a DataFrame\n",
    "for file in csv_files:\n",
    "    df = pd.read_csv(file)\n",
    "    dataframes.append(df)\n",
    "\n",
    "# Concatenate all DataFrames into a single DataFrame\n",
    "combined_df = pd.concat(dataframes, ignore_index=True)\n",
    "\n",
    "# Print the combined DataFrame\n",
    "print(combined_df)\n",
    "\n",
    "# Optionally, save the combined DataFrame to a new CSV file\n",
    "#combined_df.to_csv(os.path.join(downloads_folder, \"combined_data.csv\"), index=False)\n",
    "\n",
    "import re\n",
    "\n",
    "def remove_day_suffix(text):\n",
    "  \"\"\"Removes ordinal suffixes from a string.\"\"\"\n",
    "  return re.sub(r\"(?<=\\d)(st|nd|rd|th)\", \"\", text)\n",
    "\n",
    "# Apply the function to the column\n",
    "combined_df['date1'] = combined_df['date'].apply(remove_day_suffix)\n",
    "\n",
    "combined_df['datetime'] = pd.to_datetime(combined_df['date1'], format='%I:%M%p %d %B %Y')\n",
    "combined_df = combined_df.sort_values(by='datetime')\n",
    "combined_df['YYYYMMDD'] = combined_df['datetime'].dt.strftime('%Y-%m-%d')\n",
    "combined_df['Weekday'] = pd.to_datetime(combined_df['datetime'], format='%a').dt.day_name()\n",
    "combined_df['Month'] = pd.to_datetime(combined_df['datetime'], format='%b').dt.month_name()\n",
    "combined_df['Year'] = pd.to_datetime(combined_df['datetime'], format='%Y').dt.year\n",
    "\n",
    "# Set time of day based on your specified time frames\n",
    "combined_df.loc[combined_df.set_index('datetime').index.indexer_between_time('18:00', '23:59'), 'd_time'] = 'Po'\n",
    "combined_df.loc[combined_df.set_index('datetime').index.indexer_between_time('0:00', '5:59'), 'd_time'] = 'Atapo'\n",
    "combined_df.loc[combined_df.set_index('datetime').index.indexer_between_time('6:00', '11:59'), 'd_time'] = 'Ata'\n",
    "combined_df.loc[combined_df.set_index('datetime').index.indexer_between_time('12:00', '17:59'), 'd_time'] = 'Ahiahi'\n",
    "\n",
    "combined_df.loc[combined_df.set_index('datetime').index.indexer_between_time('0:00', '3:59'), 'd_time1'] = 'Atapo'\n",
    "combined_df.loc[combined_df.set_index('datetime').index.indexer_between_time('4:00', '7:59'), 'd_time1'] = 'Breakfast'\n",
    "combined_df.loc[combined_df.set_index('datetime').index.indexer_between_time('8:00', '11:59'), 'd_time1'] = 'Ata'\n",
    "combined_df.loc[combined_df.set_index('datetime').index.indexer_between_time('12:00', '15:59'), 'd_time1'] = 'Ahiahi'\n",
    "combined_df.loc[combined_df.set_index('datetime').index.indexer_between_time('16:00', '19:59'), 'd_time1'] = 'Dinner'\n",
    "combined_df.loc[combined_df.set_index('datetime').index.indexer_between_time('20:00', '23:59'), 'd_time1'] = 'Po'\n",
    "\n",
    "combined_df[['usage','units']] = combined_df['usage'].str.split(' ',expand=True)\n",
    "combined_df['usage'] = pd.to_numeric(combined_df['usage'], errors='coerce')\n",
    "combined_df['dollars'] = combined_df['dollars'].str.replace('$','')\n",
    "combined_df['dollars'] = pd.to_numeric(combined_df['dollars'], errors='coerce')\n",
    "\n",
    "\n",
    "combined_df.to_csv('combined.csv', index=False)\n"
   ]
  },
  {
   "cell_type": "code",
   "execution_count": null,
   "metadata": {},
   "outputs": [
    {
     "name": "stdout",
     "output_type": "stream",
     "text": [
      "                ESIID  USAGE_DATE REVISION_DATE USAGE_START_TIME  \\\n",
      "48    0084942401PC5B0  2025-01-15    2025-05-14            00:00   \n",
      "49    0084942401PC5B0  2025-01-15    2025-05-14            01:00   \n",
      "50    0084942401PC5B0  2025-01-15    2025-05-14            02:00   \n",
      "51    0084942401PC5B0  2025-01-15    2025-05-14            03:00   \n",
      "52    0084942401PC5B0  2025-01-15    2025-05-14            04:00   \n",
      "...               ...         ...           ...              ...   \n",
      "1988  0084942401PC5B0  2025-05-13    2025-05-14            19:00   \n",
      "1989  0084942401PC5B0  2025-05-13    2025-05-14            20:00   \n",
      "1990  0084942401PC5B0  2025-05-13    2025-05-14            21:00   \n",
      "1991  0084942401PC5B0  2025-05-13    2025-05-14            22:00   \n",
      "1992  0084942401PC5B0  2025-05-13    2025-05-14            23:00   \n",
      "\n",
      "     USAGE_END_TIME  USAGE_KWH ESTIMATED_ACTUAL CONSUMPTION_SURPLUSGENERATION  \n",
      "48            01:00       0.17                A                   Consumption  \n",
      "49            02:00       0.21                A                   Consumption  \n",
      "50            03:00       0.21                A                   Consumption  \n",
      "51            04:00       0.19                A                   Consumption  \n",
      "52            05:00       0.19                A                   Consumption  \n",
      "...             ...        ...              ...                           ...  \n",
      "1988          20:00       0.69                A                   Consumption  \n",
      "1989          21:00       0.52                A                   Consumption  \n",
      "1990          22:00       0.62                A                   Consumption  \n",
      "1991          23:00       0.39                A                   Consumption  \n",
      "1992          00:00       0.43                A                   Consumption  \n",
      "\n",
      "[2857 rows x 8 columns]\n"
     ]
    }
   ],
   "source": [
    "import datetime\n",
    "ICP_NUMBER = '0084942401PC5B0'\n",
    "df = combined_df.copy()\n",
    "\n",
    "df['ICP_NUMBER'] = ICP_NUMBER\n",
    "df['ESIID'] = df['ICP_NUMBER']\n",
    "df['USAGE_DATE'] = df['YYYYMMDD']\n",
    "df['REVISION_DATE'] = datetime.date.today().strftime('%Y-%m-%d')\n",
    "df['USAGE_START_TIME'] = df['datetime'].dt.strftime('%H:%M')\n",
    "df['USAGE_END_TIME'] = (df['datetime']+ pd.Timedelta(hours=1)).dt.strftime('%H:%M')\n",
    "df['USAGE_KWH'] = df['usage']\n",
    "df['ESTIMATED_ACTUAL'] = 'A'\n",
    "df['CONSUMPTION_SURPLUSGENERATION'] = 'Consumption'\n",
    "df['CATEGORY'] = df['d_time1']\n",
    "\n",
    "drop_columns = ['ICP_NUMBER','date', 'date1', 'datetime', 'YYYYMMDD', 'Weekday', 'Month', 'Year', 'd_time', 'd_time1', 'units','dollars', 'usage','type']\n",
    "df.drop(columns=drop_columns, inplace=True)\n",
    "\n",
    "df.to_csv('IntervalData.csv', index=False)\n",
    "print(df)"
   ]
  },
  {
   "cell_type": "markdown",
   "metadata": {},
   "source": [
    "ESIID,USAGE_DATE,REVISION_DATE,USAGE_START_TIME,USAGE_END_TIME,USAGE_KWH,ESTIMATED_ACTUAL,CONSUMPTION_SURPLUSGENERATION\n",
    "'10443720007382518,03/01/2022,03/02/2022 06:18:33,00:00,00:15,.145,A,Consumption\n",
    "'10443720007382518,03/01/2022,03/02/2022 06:18:33,00:15,00:30,.188,A,Consumption\n",
    "'10443720007382518,03/01/2022,03/02/2022 06:18:33,00:30,00:45,.125,A,Consumption\n",
    "'10443720007382518,03/01/2022,03/02/2022 06:18:33,00:45,01:00,.146,A,Consumption\n",
    "\n",
    "\n",
    "conda create --name tsplot-3.7 python=3.7\n",
    "conda activate tsplot-3.7\n",
    "conda install -c conda-forge dash\n",
    "conda install pandas numpy\n",
    "\n",
    "\n",
    "https://extranet.trc.govt.nz/getdata/boo.hts?service=Hilltop&request=GetData&Site=Patea%20at%20Stratford&Measurement=Air%20Temperature%20(Continuous)&TimeInterval=P4M"
   ]
  },
  {
   "cell_type": "code",
   "execution_count": 34,
   "metadata": {},
   "outputs": [
    {
     "name": "stdout",
     "output_type": "stream",
     "text": [
      "                         date  usage  dollars    type  \\\n",
      "48  12:00AM 15th January 2025   0.17     0.10  actual   \n",
      "49  01:00AM 15th January 2025   0.21     0.12  actual   \n",
      "50  02:00AM 15th January 2025   0.21     0.12  actual   \n",
      "51  03:00AM 15th January 2025   0.19     0.11  actual   \n",
      "52  04:00AM 15th January 2025   0.19     0.11  actual   \n",
      "\n",
      "                      date1            datetime    YYYYMMDD    Weekday  \\\n",
      "48  12:00AM 15 January 2025 2025-01-15 00:00:00  2025-01-15  Wednesday   \n",
      "49  01:00AM 15 January 2025 2025-01-15 01:00:00  2025-01-15  Wednesday   \n",
      "50  02:00AM 15 January 2025 2025-01-15 02:00:00  2025-01-15  Wednesday   \n",
      "51  03:00AM 15 January 2025 2025-01-15 03:00:00  2025-01-15  Wednesday   \n",
      "52  04:00AM 15 January 2025 2025-01-15 04:00:00  2025-01-15  Wednesday   \n",
      "\n",
      "      Month  Year  ... units       ICP_NUMBER            ESIID  USAGE_DATE  \\\n",
      "48  January  2025  ...   kWh  0084942401PC5B0  0084942401PC5B0  2025-01-15   \n",
      "49  January  2025  ...   kWh  0084942401PC5B0  0084942401PC5B0  2025-01-15   \n",
      "50  January  2025  ...   kWh  0084942401PC5B0  0084942401PC5B0  2025-01-15   \n",
      "51  January  2025  ...   kWh  0084942401PC5B0  0084942401PC5B0  2025-01-15   \n",
      "52  January  2025  ...   kWh  0084942401PC5B0  0084942401PC5B0  2025-01-15   \n",
      "\n",
      "   REVISION_DATE USAGE_START_TIME USAGE_END_TIME USAGE_KWH ESTIMATED_ACTUAL  \\\n",
      "48    2025-05-14            00:00          01:00      0.17                A   \n",
      "49    2025-05-14            01:00          02:00      0.21                A   \n",
      "50    2025-05-14            02:00          03:00      0.21                A   \n",
      "51    2025-05-14            03:00          04:00      0.19                A   \n",
      "52    2025-05-14            04:00          05:00      0.19                A   \n",
      "\n",
      "    CONSUMPTION_SURPLUSGENERATION  \n",
      "48                    Consumption  \n",
      "49                    Consumption  \n",
      "50                    Consumption  \n",
      "51                    Consumption  \n",
      "52                    Consumption  \n",
      "\n",
      "[5 rows x 22 columns]\n"
     ]
    }
   ],
   "source": [
    "print(df.head())\n"
   ]
  },
  {
   "cell_type": "code",
   "execution_count": 4,
   "metadata": {},
   "outputs": [
    {
     "data": {
      "application/vnd.plotly.v1+json": {
       "config": {
        "plotlyServerURL": "https://plot.ly"
       },
       "data": [
        {
         "name": "Atapo",
         "type": "bar",
         "x": [
          "January",
          "February",
          "March",
          "April",
          "May"
         ],
         "y": {
          "bdata": "bwiiO9VuyD/5iq/4iq/IP1siqCWCWso/GBFWV3jS2T+O3MiN3MjZPw==",
          "dtype": "f8"
         }
        },
        {
         "name": "Breakfast",
         "type": "bar",
         "x": [
          "January",
          "February",
          "March",
          "April",
          "May"
         ],
         "y": {
          "bdata": "KPXBjlso1T8P6qAO6qDVPwORLxD5AtU/IWlKxdmH3z8yTQaYs2zgPw==",
          "dtype": "f8"
         }
        },
        {
         "name": "Ata",
         "type": "bar",
         "x": [
          "January",
          "February",
          "March",
          "April",
          "May"
         ],
         "y": {
          "bdata": "gRq0TeeA1j9Ffyer5Y3YPwePefCYB9s/2RUg95oL4j/k09cWBwviPw==",
          "dtype": "f8"
         }
        },
        {
         "name": "Ahiahi",
         "type": "bar",
         "x": [
          "January",
          "February",
          "March",
          "April",
          "May"
         ],
         "y": {
          "bdata": "yMbGxsbG3j91UAd1UIfgP9Y2Vm1j1d4/s1bHBA/m3z/UZIA5y+bjPw==",
          "dtype": "f8"
         }
        },
        {
         "name": "Dinner",
         "type": "bar",
         "x": [
          "January",
          "February",
          "March",
          "April",
          "May"
         ],
         "y": {
          "bdata": "LMZf+ZIs5j+6zy4gNhXjPwuysyA7C+Q/eTBP1L8R6D8ndmIndmLtPw==",
          "dtype": "f8"
         }
        },
        {
         "name": "Po",
         "type": "bar",
         "x": [
          "January",
          "February",
          "March",
          "April",
          "May"
         ],
         "y": {
          "bdata": "CQkJCQkJ2T9GMNHfyWrYP8Ct/tvqv9U//WLJL5b84j8cuZEbuZHjPw==",
          "dtype": "f8"
         }
        }
       ],
       "layout": {
        "barmode": "group",
        "template": {
         "data": {
          "bar": [
           {
            "error_x": {
             "color": "#2a3f5f"
            },
            "error_y": {
             "color": "#2a3f5f"
            },
            "marker": {
             "line": {
              "color": "#E5ECF6",
              "width": 0.5
             },
             "pattern": {
              "fillmode": "overlay",
              "size": 10,
              "solidity": 0.2
             }
            },
            "type": "bar"
           }
          ],
          "barpolar": [
           {
            "marker": {
             "line": {
              "color": "#E5ECF6",
              "width": 0.5
             },
             "pattern": {
              "fillmode": "overlay",
              "size": 10,
              "solidity": 0.2
             }
            },
            "type": "barpolar"
           }
          ],
          "carpet": [
           {
            "aaxis": {
             "endlinecolor": "#2a3f5f",
             "gridcolor": "white",
             "linecolor": "white",
             "minorgridcolor": "white",
             "startlinecolor": "#2a3f5f"
            },
            "baxis": {
             "endlinecolor": "#2a3f5f",
             "gridcolor": "white",
             "linecolor": "white",
             "minorgridcolor": "white",
             "startlinecolor": "#2a3f5f"
            },
            "type": "carpet"
           }
          ],
          "choropleth": [
           {
            "colorbar": {
             "outlinewidth": 0,
             "ticks": ""
            },
            "type": "choropleth"
           }
          ],
          "contour": [
           {
            "colorbar": {
             "outlinewidth": 0,
             "ticks": ""
            },
            "colorscale": [
             [
              0,
              "#0d0887"
             ],
             [
              0.1111111111111111,
              "#46039f"
             ],
             [
              0.2222222222222222,
              "#7201a8"
             ],
             [
              0.3333333333333333,
              "#9c179e"
             ],
             [
              0.4444444444444444,
              "#bd3786"
             ],
             [
              0.5555555555555556,
              "#d8576b"
             ],
             [
              0.6666666666666666,
              "#ed7953"
             ],
             [
              0.7777777777777778,
              "#fb9f3a"
             ],
             [
              0.8888888888888888,
              "#fdca26"
             ],
             [
              1,
              "#f0f921"
             ]
            ],
            "type": "contour"
           }
          ],
          "contourcarpet": [
           {
            "colorbar": {
             "outlinewidth": 0,
             "ticks": ""
            },
            "type": "contourcarpet"
           }
          ],
          "heatmap": [
           {
            "colorbar": {
             "outlinewidth": 0,
             "ticks": ""
            },
            "colorscale": [
             [
              0,
              "#0d0887"
             ],
             [
              0.1111111111111111,
              "#46039f"
             ],
             [
              0.2222222222222222,
              "#7201a8"
             ],
             [
              0.3333333333333333,
              "#9c179e"
             ],
             [
              0.4444444444444444,
              "#bd3786"
             ],
             [
              0.5555555555555556,
              "#d8576b"
             ],
             [
              0.6666666666666666,
              "#ed7953"
             ],
             [
              0.7777777777777778,
              "#fb9f3a"
             ],
             [
              0.8888888888888888,
              "#fdca26"
             ],
             [
              1,
              "#f0f921"
             ]
            ],
            "type": "heatmap"
           }
          ],
          "histogram": [
           {
            "marker": {
             "pattern": {
              "fillmode": "overlay",
              "size": 10,
              "solidity": 0.2
             }
            },
            "type": "histogram"
           }
          ],
          "histogram2d": [
           {
            "colorbar": {
             "outlinewidth": 0,
             "ticks": ""
            },
            "colorscale": [
             [
              0,
              "#0d0887"
             ],
             [
              0.1111111111111111,
              "#46039f"
             ],
             [
              0.2222222222222222,
              "#7201a8"
             ],
             [
              0.3333333333333333,
              "#9c179e"
             ],
             [
              0.4444444444444444,
              "#bd3786"
             ],
             [
              0.5555555555555556,
              "#d8576b"
             ],
             [
              0.6666666666666666,
              "#ed7953"
             ],
             [
              0.7777777777777778,
              "#fb9f3a"
             ],
             [
              0.8888888888888888,
              "#fdca26"
             ],
             [
              1,
              "#f0f921"
             ]
            ],
            "type": "histogram2d"
           }
          ],
          "histogram2dcontour": [
           {
            "colorbar": {
             "outlinewidth": 0,
             "ticks": ""
            },
            "colorscale": [
             [
              0,
              "#0d0887"
             ],
             [
              0.1111111111111111,
              "#46039f"
             ],
             [
              0.2222222222222222,
              "#7201a8"
             ],
             [
              0.3333333333333333,
              "#9c179e"
             ],
             [
              0.4444444444444444,
              "#bd3786"
             ],
             [
              0.5555555555555556,
              "#d8576b"
             ],
             [
              0.6666666666666666,
              "#ed7953"
             ],
             [
              0.7777777777777778,
              "#fb9f3a"
             ],
             [
              0.8888888888888888,
              "#fdca26"
             ],
             [
              1,
              "#f0f921"
             ]
            ],
            "type": "histogram2dcontour"
           }
          ],
          "mesh3d": [
           {
            "colorbar": {
             "outlinewidth": 0,
             "ticks": ""
            },
            "type": "mesh3d"
           }
          ],
          "parcoords": [
           {
            "line": {
             "colorbar": {
              "outlinewidth": 0,
              "ticks": ""
             }
            },
            "type": "parcoords"
           }
          ],
          "pie": [
           {
            "automargin": true,
            "type": "pie"
           }
          ],
          "scatter": [
           {
            "fillpattern": {
             "fillmode": "overlay",
             "size": 10,
             "solidity": 0.2
            },
            "type": "scatter"
           }
          ],
          "scatter3d": [
           {
            "line": {
             "colorbar": {
              "outlinewidth": 0,
              "ticks": ""
             }
            },
            "marker": {
             "colorbar": {
              "outlinewidth": 0,
              "ticks": ""
             }
            },
            "type": "scatter3d"
           }
          ],
          "scattercarpet": [
           {
            "marker": {
             "colorbar": {
              "outlinewidth": 0,
              "ticks": ""
             }
            },
            "type": "scattercarpet"
           }
          ],
          "scattergeo": [
           {
            "marker": {
             "colorbar": {
              "outlinewidth": 0,
              "ticks": ""
             }
            },
            "type": "scattergeo"
           }
          ],
          "scattergl": [
           {
            "marker": {
             "colorbar": {
              "outlinewidth": 0,
              "ticks": ""
             }
            },
            "type": "scattergl"
           }
          ],
          "scattermap": [
           {
            "marker": {
             "colorbar": {
              "outlinewidth": 0,
              "ticks": ""
             }
            },
            "type": "scattermap"
           }
          ],
          "scattermapbox": [
           {
            "marker": {
             "colorbar": {
              "outlinewidth": 0,
              "ticks": ""
             }
            },
            "type": "scattermapbox"
           }
          ],
          "scatterpolar": [
           {
            "marker": {
             "colorbar": {
              "outlinewidth": 0,
              "ticks": ""
             }
            },
            "type": "scatterpolar"
           }
          ],
          "scatterpolargl": [
           {
            "marker": {
             "colorbar": {
              "outlinewidth": 0,
              "ticks": ""
             }
            },
            "type": "scatterpolargl"
           }
          ],
          "scatterternary": [
           {
            "marker": {
             "colorbar": {
              "outlinewidth": 0,
              "ticks": ""
             }
            },
            "type": "scatterternary"
           }
          ],
          "surface": [
           {
            "colorbar": {
             "outlinewidth": 0,
             "ticks": ""
            },
            "colorscale": [
             [
              0,
              "#0d0887"
             ],
             [
              0.1111111111111111,
              "#46039f"
             ],
             [
              0.2222222222222222,
              "#7201a8"
             ],
             [
              0.3333333333333333,
              "#9c179e"
             ],
             [
              0.4444444444444444,
              "#bd3786"
             ],
             [
              0.5555555555555556,
              "#d8576b"
             ],
             [
              0.6666666666666666,
              "#ed7953"
             ],
             [
              0.7777777777777778,
              "#fb9f3a"
             ],
             [
              0.8888888888888888,
              "#fdca26"
             ],
             [
              1,
              "#f0f921"
             ]
            ],
            "type": "surface"
           }
          ],
          "table": [
           {
            "cells": {
             "fill": {
              "color": "#EBF0F8"
             },
             "line": {
              "color": "white"
             }
            },
            "header": {
             "fill": {
              "color": "#C8D4E3"
             },
             "line": {
              "color": "white"
             }
            },
            "type": "table"
           }
          ]
         },
         "layout": {
          "annotationdefaults": {
           "arrowcolor": "#2a3f5f",
           "arrowhead": 0,
           "arrowwidth": 1
          },
          "autotypenumbers": "strict",
          "coloraxis": {
           "colorbar": {
            "outlinewidth": 0,
            "ticks": ""
           }
          },
          "colorscale": {
           "diverging": [
            [
             0,
             "#8e0152"
            ],
            [
             0.1,
             "#c51b7d"
            ],
            [
             0.2,
             "#de77ae"
            ],
            [
             0.3,
             "#f1b6da"
            ],
            [
             0.4,
             "#fde0ef"
            ],
            [
             0.5,
             "#f7f7f7"
            ],
            [
             0.6,
             "#e6f5d0"
            ],
            [
             0.7,
             "#b8e186"
            ],
            [
             0.8,
             "#7fbc41"
            ],
            [
             0.9,
             "#4d9221"
            ],
            [
             1,
             "#276419"
            ]
           ],
           "sequential": [
            [
             0,
             "#0d0887"
            ],
            [
             0.1111111111111111,
             "#46039f"
            ],
            [
             0.2222222222222222,
             "#7201a8"
            ],
            [
             0.3333333333333333,
             "#9c179e"
            ],
            [
             0.4444444444444444,
             "#bd3786"
            ],
            [
             0.5555555555555556,
             "#d8576b"
            ],
            [
             0.6666666666666666,
             "#ed7953"
            ],
            [
             0.7777777777777778,
             "#fb9f3a"
            ],
            [
             0.8888888888888888,
             "#fdca26"
            ],
            [
             1,
             "#f0f921"
            ]
           ],
           "sequentialminus": [
            [
             0,
             "#0d0887"
            ],
            [
             0.1111111111111111,
             "#46039f"
            ],
            [
             0.2222222222222222,
             "#7201a8"
            ],
            [
             0.3333333333333333,
             "#9c179e"
            ],
            [
             0.4444444444444444,
             "#bd3786"
            ],
            [
             0.5555555555555556,
             "#d8576b"
            ],
            [
             0.6666666666666666,
             "#ed7953"
            ],
            [
             0.7777777777777778,
             "#fb9f3a"
            ],
            [
             0.8888888888888888,
             "#fdca26"
            ],
            [
             1,
             "#f0f921"
            ]
           ]
          },
          "colorway": [
           "#636efa",
           "#EF553B",
           "#00cc96",
           "#ab63fa",
           "#FFA15A",
           "#19d3f3",
           "#FF6692",
           "#B6E880",
           "#FF97FF",
           "#FECB52"
          ],
          "font": {
           "color": "#2a3f5f"
          },
          "geo": {
           "bgcolor": "white",
           "lakecolor": "white",
           "landcolor": "#E5ECF6",
           "showlakes": true,
           "showland": true,
           "subunitcolor": "white"
          },
          "hoverlabel": {
           "align": "left"
          },
          "hovermode": "closest",
          "mapbox": {
           "style": "light"
          },
          "paper_bgcolor": "white",
          "plot_bgcolor": "#E5ECF6",
          "polar": {
           "angularaxis": {
            "gridcolor": "white",
            "linecolor": "white",
            "ticks": ""
           },
           "bgcolor": "#E5ECF6",
           "radialaxis": {
            "gridcolor": "white",
            "linecolor": "white",
            "ticks": ""
           }
          },
          "scene": {
           "xaxis": {
            "backgroundcolor": "#E5ECF6",
            "gridcolor": "white",
            "gridwidth": 2,
            "linecolor": "white",
            "showbackground": true,
            "ticks": "",
            "zerolinecolor": "white"
           },
           "yaxis": {
            "backgroundcolor": "#E5ECF6",
            "gridcolor": "white",
            "gridwidth": 2,
            "linecolor": "white",
            "showbackground": true,
            "ticks": "",
            "zerolinecolor": "white"
           },
           "zaxis": {
            "backgroundcolor": "#E5ECF6",
            "gridcolor": "white",
            "gridwidth": 2,
            "linecolor": "white",
            "showbackground": true,
            "ticks": "",
            "zerolinecolor": "white"
           }
          },
          "shapedefaults": {
           "line": {
            "color": "#2a3f5f"
           }
          },
          "ternary": {
           "aaxis": {
            "gridcolor": "white",
            "linecolor": "white",
            "ticks": ""
           },
           "baxis": {
            "gridcolor": "white",
            "linecolor": "white",
            "ticks": ""
           },
           "bgcolor": "#E5ECF6",
           "caxis": {
            "gridcolor": "white",
            "linecolor": "white",
            "ticks": ""
           }
          },
          "title": {
           "x": 0.05
          },
          "xaxis": {
           "automargin": true,
           "gridcolor": "white",
           "linecolor": "white",
           "ticks": "",
           "title": {
            "standoff": 15
           },
           "zerolinecolor": "white",
           "zerolinewidth": 2
          },
          "yaxis": {
           "automargin": true,
           "gridcolor": "white",
           "linecolor": "white",
           "ticks": "",
           "title": {
            "standoff": 15
           },
           "zerolinecolor": "white",
           "zerolinewidth": 2
          }
         }
        },
        "title": {
         "text": "Monthly Totals by Category"
        },
        "xaxis": {
         "title": {
          "text": "Month"
         }
        },
        "yaxis": {
         "title": {
          "text": "Mean Value"
         }
        }
       }
      }
     },
     "metadata": {},
     "output_type": "display_data"
    }
   ],
   "source": [
    "import plotly.graph_objects as go\n",
    "import pandas as pd\n",
    "\n",
    "df = combined_df.copy()\n",
    "df['Category'] = df['d_time1']\n",
    "\n",
    "# Create a bar chart\n",
    "# Aggregate to monthly totals\n",
    "df_monthly = df.groupby(['Month', 'Category'])['usage'].mean().reset_index()\n",
    "\n",
    "ordered_months = [\"January\", \"February\", \"March\", \"April\", \"May\", \"June\",\n",
    "      \"July\", \"August\", \"September\", \"October\", \"November\", \"December\"]\n",
    "\n",
    "# sorting data accoring to ordered_months\n",
    "df_monthly['to_sort']=df_monthly['Month'].apply(lambda x:ordered_months.index(x))\n",
    "df_monthly = df_monthly.sort_values('to_sort')\n",
    "\n",
    "ordered_dayparts = [\"Atapo\", \"Breakfast\", \"Ata\", \"Ahiahi\", \"Dinner\", \"Po\"]\n",
    "\n",
    "fig = go.Figure()\n",
    "for category in ordered_dayparts:\n",
    "    df_category = df_monthly[df_monthly['Category'] == category]\n",
    "    fig.add_trace(go.Bar(x=df_category['Month'], y=df_category['usage'], name=category))\n",
    "\n",
    "fig.update_layout(\n",
    "    title='Monthly Totals by Category',\n",
    "    xaxis_title='Month',\n",
    "    yaxis_title='Mean Value',\n",
    "    barmode='group' # Display bars side by side\n",
    ")\n",
    "\n",
    "fig.show()"
   ]
  },
  {
   "cell_type": "code",
   "execution_count": null,
   "metadata": {},
   "outputs": [
    {
     "data": {
      "application/vnd.microsoft.datawrangler.viewer.v0+json": {
       "columns": [
        {
         "name": "index",
         "rawType": "int64",
         "type": "integer"
        },
        {
         "name": "SiteName",
         "rawType": "object",
         "type": "string"
        }
       ],
       "conversionMethod": "pd.DataFrame",
       "ref": "d5f72355-4d20-4588-ad64-c760a4aaa525",
       "rows": [
        [
         "0",
         "0026 at Mangatete Stream"
        ],
        [
         "1",
         "0047 at Tangahoe River"
        ],
        [
         "2",
         "0047 at Tawhiti Stream"
        ],
        [
         "3",
         "0124 at Waimoku Trib"
        ],
        [
         "4",
         "0146 at Kapuni Stream"
        ]
       ],
       "shape": {
        "columns": 1,
        "rows": 5
       }
      },
      "text/html": [
       "<div>\n",
       "<style scoped>\n",
       "    .dataframe tbody tr th:only-of-type {\n",
       "        vertical-align: middle;\n",
       "    }\n",
       "\n",
       "    .dataframe tbody tr th {\n",
       "        vertical-align: top;\n",
       "    }\n",
       "\n",
       "    .dataframe thead th {\n",
       "        text-align: right;\n",
       "    }\n",
       "</style>\n",
       "<table border=\"1\" class=\"dataframe\">\n",
       "  <thead>\n",
       "    <tr style=\"text-align: right;\">\n",
       "      <th></th>\n",
       "      <th>SiteName</th>\n",
       "    </tr>\n",
       "  </thead>\n",
       "  <tbody>\n",
       "    <tr>\n",
       "      <th>0</th>\n",
       "      <td>0026 at Mangatete Stream</td>\n",
       "    </tr>\n",
       "    <tr>\n",
       "      <th>1</th>\n",
       "      <td>0047 at Tangahoe River</td>\n",
       "    </tr>\n",
       "    <tr>\n",
       "      <th>2</th>\n",
       "      <td>0047 at Tawhiti Stream</td>\n",
       "    </tr>\n",
       "    <tr>\n",
       "      <th>3</th>\n",
       "      <td>0124 at Waimoku Trib</td>\n",
       "    </tr>\n",
       "    <tr>\n",
       "      <th>4</th>\n",
       "      <td>0146 at Kapuni Stream</td>\n",
       "    </tr>\n",
       "  </tbody>\n",
       "</table>\n",
       "</div>"
      ],
      "text/plain": [
       "                   SiteName\n",
       "0  0026 at Mangatete Stream\n",
       "1    0047 at Tangahoe River\n",
       "2    0047 at Tawhiti Stream\n",
       "3      0124 at Waimoku Trib\n",
       "4     0146 at Kapuni Stream"
      ]
     },
     "execution_count": 1,
     "metadata": {},
     "output_type": "execute_result"
    }
   ],
   "source": [
    "from hilltoppy import Hilltop, utils\n",
    "\n",
    "base_url = 'https://extranet.trc.govt.nz/getdata/'\n",
    "hts = 'boo.hts'\n",
    "site = ['Patea at Stratford']\n",
    "\n",
    "\n",
    "# Create a Hilltop object\n",
    "ht = Hilltop(base_url, hts)\n",
    "sites_out1 = ht.get_site_list()\n",
    "sites_out1.head()\n"
   ]
  },
  {
   "cell_type": "code",
   "execution_count": 3,
   "metadata": {},
   "outputs": [
    {
     "data": {
      "application/vnd.microsoft.datawrangler.viewer.v0+json": {
       "columns": [
        {
         "name": "index",
         "rawType": "int64",
         "type": "integer"
        },
        {
         "name": "SiteName",
         "rawType": "object",
         "type": "string"
        },
        {
         "name": "Altitude",
         "rawType": "int64",
         "type": "integer"
        },
        {
         "name": "Comment",
         "rawType": "object",
         "type": "string"
        },
        {
         "name": "ConsentCompliance",
         "rawType": "object",
         "type": "string"
        },
        {
         "name": "District",
         "rawType": "object",
         "type": "string"
        },
        {
         "name": "Easting",
         "rawType": "int64",
         "type": "integer"
        },
        {
         "name": "FirstSynonym",
         "rawType": "object",
         "type": "string"
        },
        {
         "name": "GISTag",
         "rawType": "object",
         "type": "string"
        },
        {
         "name": "GroundwaterZone",
         "rawType": "object",
         "type": "string"
        },
        {
         "name": "HIRDS",
         "rawType": "object",
         "type": "string"
        },
        {
         "name": "Inactive",
         "rawType": "int64",
         "type": "integer"
        },
        {
         "name": "LawaRainfallMeasurement",
         "rawType": "object",
         "type": "string"
        },
        {
         "name": "LawaSiteID",
         "rawType": "object",
         "type": "string"
        },
        {
         "name": "MetNumber",
         "rawType": "object",
         "type": "string"
        },
        {
         "name": "Northing",
         "rawType": "int64",
         "type": "integer"
        },
        {
         "name": "RecordingAuthority1",
         "rawType": "object",
         "type": "string"
        },
        {
         "name": "RecordingAuthority2",
         "rawType": "object",
         "type": "string"
        },
        {
         "name": "RiverNumber",
         "rawType": "int64",
         "type": "integer"
        },
        {
         "name": "SecondSynonym",
         "rawType": "object",
         "type": "string"
        },
        {
         "name": "ShortName",
         "rawType": "int64",
         "type": "integer"
        },
        {
         "name": "SiteID",
         "rawType": "int64",
         "type": "integer"
        },
        {
         "name": "SurfaceWaterZone",
         "rawType": "object",
         "type": "string"
        }
       ],
       "conversionMethod": "pd.DataFrame",
       "ref": "a16b4a99-6e5f-4ed5-8e24-e3317f0942af",
       "rows": [
        [
         "0",
         "Patea at Stratford",
         "295",
         "TIDEDA site number - 943203 (R/F) - 843203 (Wind Dir) - 743203 (Wind Speed) - 543203 (Wind Gust) - 1043203 (Air Temp)\r\nSite renamed to Patea at Stratford (from Stratford at TRC) on 7/12/05 when site moved to carpark.",
         "false",
         "\n",
         "1711572",
         "\n",
         "\n",
         "Volcanics",
         "\n",
         "0",
         "Rainfall",
         "TRC-00037",
         "E94323",
         "5644489",
         "TRC",
         "\n",
         "343000",
         "\n",
         "943203",
         "32",
         "Patea"
        ]
       ],
       "shape": {
        "columns": 22,
        "rows": 1
       }
      },
      "text/html": [
       "<div>\n",
       "<style scoped>\n",
       "    .dataframe tbody tr th:only-of-type {\n",
       "        vertical-align: middle;\n",
       "    }\n",
       "\n",
       "    .dataframe tbody tr th {\n",
       "        vertical-align: top;\n",
       "    }\n",
       "\n",
       "    .dataframe thead th {\n",
       "        text-align: right;\n",
       "    }\n",
       "</style>\n",
       "<table border=\"1\" class=\"dataframe\">\n",
       "  <thead>\n",
       "    <tr style=\"text-align: right;\">\n",
       "      <th></th>\n",
       "      <th>SiteName</th>\n",
       "      <th>Altitude</th>\n",
       "      <th>Comment</th>\n",
       "      <th>ConsentCompliance</th>\n",
       "      <th>District</th>\n",
       "      <th>Easting</th>\n",
       "      <th>FirstSynonym</th>\n",
       "      <th>GISTag</th>\n",
       "      <th>GroundwaterZone</th>\n",
       "      <th>HIRDS</th>\n",
       "      <th>...</th>\n",
       "      <th>LawaSiteID</th>\n",
       "      <th>MetNumber</th>\n",
       "      <th>Northing</th>\n",
       "      <th>RecordingAuthority1</th>\n",
       "      <th>RecordingAuthority2</th>\n",
       "      <th>RiverNumber</th>\n",
       "      <th>SecondSynonym</th>\n",
       "      <th>ShortName</th>\n",
       "      <th>SiteID</th>\n",
       "      <th>SurfaceWaterZone</th>\n",
       "    </tr>\n",
       "  </thead>\n",
       "  <tbody>\n",
       "    <tr>\n",
       "      <th>0</th>\n",
       "      <td>Patea at Stratford</td>\n",
       "      <td>295</td>\n",
       "      <td>TIDEDA site number - 943203 (R/F) - 843203 (Wi...</td>\n",
       "      <td>false</td>\n",
       "      <td>\\n</td>\n",
       "      <td>1711572</td>\n",
       "      <td>\\n</td>\n",
       "      <td>\\n</td>\n",
       "      <td>Volcanics</td>\n",
       "      <td>\\n</td>\n",
       "      <td>...</td>\n",
       "      <td>TRC-00037</td>\n",
       "      <td>E94323</td>\n",
       "      <td>5644489</td>\n",
       "      <td>TRC</td>\n",
       "      <td>\\n</td>\n",
       "      <td>343000</td>\n",
       "      <td>\\n</td>\n",
       "      <td>943203</td>\n",
       "      <td>32</td>\n",
       "      <td>Patea</td>\n",
       "    </tr>\n",
       "  </tbody>\n",
       "</table>\n",
       "<p>1 rows × 22 columns</p>\n",
       "</div>"
      ],
      "text/plain": [
       "             SiteName  Altitude  \\\n",
       "0  Patea at Stratford       295   \n",
       "\n",
       "                                             Comment ConsentCompliance  \\\n",
       "0  TIDEDA site number - 943203 (R/F) - 843203 (Wi...             false   \n",
       "\n",
       "  District  Easting FirstSynonym GISTag GroundwaterZone HIRDS  ...  \\\n",
       "0       \\n  1711572           \\n     \\n       Volcanics    \\n  ...   \n",
       "\n",
       "   LawaSiteID MetNumber Northing RecordingAuthority1  RecordingAuthority2  \\\n",
       "0   TRC-00037    E94323  5644489                 TRC                   \\n   \n",
       "\n",
       "  RiverNumber SecondSynonym  ShortName SiteID  SurfaceWaterZone  \n",
       "0      343000            \\n     943203     32             Patea  \n",
       "\n",
       "[1 rows x 22 columns]"
      ]
     },
     "execution_count": 3,
     "metadata": {},
     "output_type": "execute_result"
    }
   ],
   "source": [
    "site_data = ht.get_site_info(site)\n",
    "site_data"
   ]
  },
  {
   "cell_type": "code",
   "execution_count": 5,
   "metadata": {},
   "outputs": [
    {
     "data": {
      "application/vnd.microsoft.datawrangler.viewer.v0+json": {
       "columns": [
        {
         "name": "index",
         "rawType": "int64",
         "type": "integer"
        },
        {
         "name": "SiteName",
         "rawType": "object",
         "type": "string"
        },
        {
         "name": "MeasurementName",
         "rawType": "object",
         "type": "string"
        },
        {
         "name": "Units",
         "rawType": "object",
         "type": "unknown"
        },
        {
         "name": "Precision",
         "rawType": "int64",
         "type": "integer"
        },
        {
         "name": "Item",
         "rawType": "int64",
         "type": "integer"
        },
        {
         "name": "DataSourceName",
         "rawType": "object",
         "type": "string"
        },
        {
         "name": "TSType",
         "rawType": "object",
         "type": "string"
        },
        {
         "name": "DataType",
         "rawType": "object",
         "type": "string"
        },
        {
         "name": "Interpolation",
         "rawType": "object",
         "type": "string"
        },
        {
         "name": "From",
         "rawType": "datetime64[ns]",
         "type": "datetime"
        },
        {
         "name": "To",
         "rawType": "datetime64[ns]",
         "type": "datetime"
        },
        {
         "name": "VMStart",
         "rawType": "datetime64[ns]",
         "type": "datetime"
        },
        {
         "name": "VMFinish",
         "rawType": "datetime64[ns]",
         "type": "datetime"
        },
        {
         "name": "MeasurementGroup",
         "rawType": "object",
         "type": "unknown"
        }
       ],
       "conversionMethod": "pd.DataFrame",
       "ref": "43c38dea-51dd-4b58-aff3-6e6d35ea2195",
       "rows": [
        [
         "0",
         "Patea at Stratford",
         "Rainfall",
         "mm",
         "1",
         "1",
         "Rainfall",
         "StdSeries",
         "SimpleTimeSeries",
         "Incremental",
         "2024-06-27 10:01:00",
         "2025-05-15 20:31:00",
         null,
         null,
         null
        ],
        [
         "1",
         "Patea at Stratford",
         "Rainfall-Difference",
         null,
         "2",
         "1",
         "Rainfall",
         "StdSeries",
         "SimpleTimeSeries",
         "Incremental",
         "2024-06-27 10:01:00",
         "2025-05-15 20:31:00",
         "2024-06-27 10:01:00",
         "2025-05-15 20:31:00",
         null
        ],
        [
         "2",
         "Patea at Stratford",
         "RF TimeStep_60",
         null,
         "2",
         "1",
         "Rainfall",
         "StdSeries",
         "SimpleTimeSeries",
         "Incremental",
         "2024-06-27 10:01:00",
         "2025-05-15 20:31:00",
         "2024-06-27 10:01:00",
         "2025-05-15 20:31:00",
         "VirtualChecks"
        ],
        [
         "3",
         "Patea at Stratford",
         "Voltage",
         "V",
         "2",
         "1",
         "Voltage",
         "StdSeries",
         "SimpleTimeSeries",
         "Instant",
         "2024-06-27 10:30:00",
         "2025-05-15 20:30:00",
         null,
         null,
         null
        ],
        [
         "4",
         "Patea at Stratford",
         "Air Temperature (Continuous)",
         "oC",
         "2",
         "1",
         "Air Temperature (Continuous)",
         "StdSeries",
         "SimpleTimeSeries",
         "Instant",
         "2024-06-27 10:10:00",
         "2025-05-15 20:30:00",
         null,
         null,
         null
        ],
        [
         "5",
         "Patea at Stratford",
         "AT TimeStep_600",
         null,
         "2",
         "1",
         "Air Temperature (Continuous)",
         "StdSeries",
         "SimpleTimeSeries",
         "Instant",
         "2024-06-27 10:10:00",
         "2025-05-15 20:30:00",
         "2024-06-27 10:10:00",
         "2025-05-15 20:30:00",
         "VirtualChecks"
        ],
        [
         "6",
         "Patea at Stratford",
         "Air Temp Diff CC",
         "C",
         "2",
         "1",
         "Air Temperature (Continuous)",
         "StdSeries",
         "SimpleTimeSeries",
         "Instant",
         "2024-06-27 10:10:00",
         "2025-05-15 20:30:00",
         "2024-06-27 10:10:00",
         "2025-05-15 20:30:00",
         "Control Charts"
        ],
        [
         "7",
         "Patea at Stratford",
         "AirT-7day",
         "deg.C",
         "2",
         "1",
         "Air Temperature (Continuous)",
         "StdSeries",
         "SimpleTimeSeries",
         "Instant",
         "2024-06-27 10:10:00",
         "2025-05-15 20:30:00",
         "2024-06-30 22:10:00",
         "2025-05-15 20:30:00",
         null
        ],
        [
         "8",
         "Patea at Stratford",
         "Wind Direction",
         "deg",
         "0",
         "1",
         "Wind Direction",
         "StdSeries",
         "SimpleTimeSeries",
         "Instant",
         "2024-06-27 10:10:00",
         "2025-05-15 20:30:00",
         null,
         null,
         null
        ],
        [
         "9",
         "Patea at Stratford",
         "WD-smoothed",
         null,
         "2",
         "1",
         "Wind Direction",
         "StdSeries",
         "SimpleTimeSeries",
         "Instant",
         "2024-06-27 10:10:00",
         "2025-05-15 20:30:00",
         "2024-06-27 10:10:00",
         "2025-05-15 20:30:00",
         "VirtualChecks"
        ],
        [
         "10",
         "Patea at Stratford",
         "Westerly",
         null,
         "2",
         "1",
         "Wind Direction",
         "StdSeries",
         "SimpleTimeSeries",
         "Instant",
         "2024-06-27 10:10:00",
         "2025-05-15 20:30:00",
         "2024-06-27 10:10:00",
         "2025-05-15 20:30:00",
         "VirtualChecks"
        ],
        [
         "11",
         "Patea at Stratford",
         "NorthWind-7day",
         null,
         "2",
         "1",
         "Wind Direction",
         "StdSeries",
         "SimpleTimeSeries",
         "Instant",
         "2024-06-27 10:10:00",
         "2025-05-15 20:30:00",
         "2024-06-27 10:10:00",
         "2025-05-15 20:30:00",
         "VirtualChecks"
        ],
        [
         "12",
         "Patea at Stratford",
         "WestWind-7day",
         null,
         "2",
         "1",
         "Wind Direction",
         "StdSeries",
         "SimpleTimeSeries",
         "Instant",
         "2024-06-27 10:10:00",
         "2025-05-15 20:30:00",
         "2024-06-27 10:10:00",
         "2025-05-15 20:30:00",
         "VirtualChecks"
        ],
        [
         "13",
         "Patea at Stratford",
         "WD TimeStep_600",
         "deg",
         "2",
         "1",
         "Wind Direction",
         "StdSeries",
         "SimpleTimeSeries",
         "Instant",
         "2024-06-27 10:10:00",
         "2025-05-15 20:30:00",
         "2024-06-27 10:10:00",
         "2025-05-15 20:30:00",
         "VirtualChecks"
        ],
        [
         "14",
         "Patea at Stratford",
         "Northerly",
         null,
         "2",
         "1",
         "Wind Direction",
         "StdSeries",
         "SimpleTimeSeries",
         "Instant",
         "2024-06-27 10:10:00",
         "2025-05-15 20:30:00",
         "2024-06-27 10:10:00",
         "2025-05-15 20:30:00",
         "VirtualChecks"
        ],
        [
         "15",
         "Patea at Stratford",
         "NorthVector",
         "km/hr",
         "2",
         "1",
         "Wind Direction",
         "StdSeries",
         "SimpleTimeSeries",
         "Instant",
         "2024-06-27 10:10:00",
         "2025-05-15 20:30:00",
         "2024-06-27 10:10:00",
         "2025-05-15 20:30:00",
         "VirtualChecks"
        ],
        [
         "16",
         "Patea at Stratford",
         "WestVector",
         "km/hr",
         "2",
         "1",
         "Wind Direction",
         "StdSeries",
         "SimpleTimeSeries",
         "Instant",
         "2024-06-27 10:10:00",
         "2025-05-15 20:30:00",
         "2024-06-27 10:10:00",
         "2025-05-15 20:30:00",
         "VirtualChecks"
        ],
        [
         "17",
         "Patea at Stratford",
         "Maximum wind gust",
         "km/hr",
         "1",
         "1",
         "Maximum wind Gust",
         "StdSeries",
         "SimpleTimeSeries",
         "Instant",
         "2024-06-27 10:10:00",
         "2025-05-15 20:30:00",
         null,
         null,
         null
        ],
        [
         "18",
         "Patea at Stratford",
         "MWG TimeStep_600",
         null,
         "2",
         "1",
         "Maximum wind Gust",
         "StdSeries",
         "SimpleTimeSeries",
         "Instant",
         "2024-06-27 10:10:00",
         "2025-05-15 20:30:00",
         "2024-06-27 10:10:00",
         "2025-05-15 20:30:00",
         "VirtualChecks"
        ],
        [
         "19",
         "Patea at Stratford",
         "MaxDayGust",
         "km/hr",
         "2",
         "1",
         "Maximum wind Gust",
         "StdSeries",
         "SimpleTimeSeries",
         "Instant",
         "2024-06-27 10:10:00",
         "2025-05-15 20:30:00",
         "2024-06-27 10:10:00",
         "2025-05-15 20:30:00",
         null
        ],
        [
         "20",
         "Patea at Stratford",
         "Wind Speed",
         "km/hr",
         "1",
         "1",
         "Wind Speed",
         "StdSeries",
         "SimpleTimeSeries",
         "Instant",
         "2024-06-27 10:10:00",
         "2025-05-15 20:30:00",
         null,
         null,
         null
        ],
        [
         "21",
         "Patea at Stratford",
         "WS TimeStep_600",
         null,
         "2",
         "1",
         "Wind Speed",
         "StdSeries",
         "SimpleTimeSeries",
         "Instant",
         "2024-06-27 10:10:00",
         "2025-05-15 20:30:00",
         "2024-06-27 10:10:00",
         "2025-05-15 20:30:00",
         "VirtualChecks"
        ]
       ],
       "shape": {
        "columns": 14,
        "rows": 22
       }
      },
      "text/html": [
       "<div>\n",
       "<style scoped>\n",
       "    .dataframe tbody tr th:only-of-type {\n",
       "        vertical-align: middle;\n",
       "    }\n",
       "\n",
       "    .dataframe tbody tr th {\n",
       "        vertical-align: top;\n",
       "    }\n",
       "\n",
       "    .dataframe thead th {\n",
       "        text-align: right;\n",
       "    }\n",
       "</style>\n",
       "<table border=\"1\" class=\"dataframe\">\n",
       "  <thead>\n",
       "    <tr style=\"text-align: right;\">\n",
       "      <th></th>\n",
       "      <th>SiteName</th>\n",
       "      <th>MeasurementName</th>\n",
       "      <th>Units</th>\n",
       "      <th>Precision</th>\n",
       "      <th>Item</th>\n",
       "      <th>DataSourceName</th>\n",
       "      <th>TSType</th>\n",
       "      <th>DataType</th>\n",
       "      <th>Interpolation</th>\n",
       "      <th>From</th>\n",
       "      <th>To</th>\n",
       "      <th>VMStart</th>\n",
       "      <th>VMFinish</th>\n",
       "      <th>MeasurementGroup</th>\n",
       "    </tr>\n",
       "  </thead>\n",
       "  <tbody>\n",
       "    <tr>\n",
       "      <th>0</th>\n",
       "      <td>Patea at Stratford</td>\n",
       "      <td>Rainfall</td>\n",
       "      <td>mm</td>\n",
       "      <td>1</td>\n",
       "      <td>1</td>\n",
       "      <td>Rainfall</td>\n",
       "      <td>StdSeries</td>\n",
       "      <td>SimpleTimeSeries</td>\n",
       "      <td>Incremental</td>\n",
       "      <td>2024-06-27 10:01:00</td>\n",
       "      <td>2025-05-15 20:31:00</td>\n",
       "      <td>NaT</td>\n",
       "      <td>NaT</td>\n",
       "      <td>NaN</td>\n",
       "    </tr>\n",
       "    <tr>\n",
       "      <th>1</th>\n",
       "      <td>Patea at Stratford</td>\n",
       "      <td>Rainfall-Difference</td>\n",
       "      <td>NaN</td>\n",
       "      <td>2</td>\n",
       "      <td>1</td>\n",
       "      <td>Rainfall</td>\n",
       "      <td>StdSeries</td>\n",
       "      <td>SimpleTimeSeries</td>\n",
       "      <td>Incremental</td>\n",
       "      <td>2024-06-27 10:01:00</td>\n",
       "      <td>2025-05-15 20:31:00</td>\n",
       "      <td>2024-06-27 10:01:00</td>\n",
       "      <td>2025-05-15 20:31:00</td>\n",
       "      <td>NaN</td>\n",
       "    </tr>\n",
       "    <tr>\n",
       "      <th>2</th>\n",
       "      <td>Patea at Stratford</td>\n",
       "      <td>RF TimeStep_60</td>\n",
       "      <td>NaN</td>\n",
       "      <td>2</td>\n",
       "      <td>1</td>\n",
       "      <td>Rainfall</td>\n",
       "      <td>StdSeries</td>\n",
       "      <td>SimpleTimeSeries</td>\n",
       "      <td>Incremental</td>\n",
       "      <td>2024-06-27 10:01:00</td>\n",
       "      <td>2025-05-15 20:31:00</td>\n",
       "      <td>2024-06-27 10:01:00</td>\n",
       "      <td>2025-05-15 20:31:00</td>\n",
       "      <td>VirtualChecks</td>\n",
       "    </tr>\n",
       "    <tr>\n",
       "      <th>3</th>\n",
       "      <td>Patea at Stratford</td>\n",
       "      <td>Voltage</td>\n",
       "      <td>V</td>\n",
       "      <td>2</td>\n",
       "      <td>1</td>\n",
       "      <td>Voltage</td>\n",
       "      <td>StdSeries</td>\n",
       "      <td>SimpleTimeSeries</td>\n",
       "      <td>Instant</td>\n",
       "      <td>2024-06-27 10:30:00</td>\n",
       "      <td>2025-05-15 20:30:00</td>\n",
       "      <td>NaT</td>\n",
       "      <td>NaT</td>\n",
       "      <td>NaN</td>\n",
       "    </tr>\n",
       "    <tr>\n",
       "      <th>4</th>\n",
       "      <td>Patea at Stratford</td>\n",
       "      <td>Air Temperature (Continuous)</td>\n",
       "      <td>oC</td>\n",
       "      <td>2</td>\n",
       "      <td>1</td>\n",
       "      <td>Air Temperature (Continuous)</td>\n",
       "      <td>StdSeries</td>\n",
       "      <td>SimpleTimeSeries</td>\n",
       "      <td>Instant</td>\n",
       "      <td>2024-06-27 10:10:00</td>\n",
       "      <td>2025-05-15 20:30:00</td>\n",
       "      <td>NaT</td>\n",
       "      <td>NaT</td>\n",
       "      <td>NaN</td>\n",
       "    </tr>\n",
       "    <tr>\n",
       "      <th>5</th>\n",
       "      <td>Patea at Stratford</td>\n",
       "      <td>AT TimeStep_600</td>\n",
       "      <td>NaN</td>\n",
       "      <td>2</td>\n",
       "      <td>1</td>\n",
       "      <td>Air Temperature (Continuous)</td>\n",
       "      <td>StdSeries</td>\n",
       "      <td>SimpleTimeSeries</td>\n",
       "      <td>Instant</td>\n",
       "      <td>2024-06-27 10:10:00</td>\n",
       "      <td>2025-05-15 20:30:00</td>\n",
       "      <td>2024-06-27 10:10:00</td>\n",
       "      <td>2025-05-15 20:30:00</td>\n",
       "      <td>VirtualChecks</td>\n",
       "    </tr>\n",
       "    <tr>\n",
       "      <th>6</th>\n",
       "      <td>Patea at Stratford</td>\n",
       "      <td>Air Temp Diff CC</td>\n",
       "      <td>C</td>\n",
       "      <td>2</td>\n",
       "      <td>1</td>\n",
       "      <td>Air Temperature (Continuous)</td>\n",
       "      <td>StdSeries</td>\n",
       "      <td>SimpleTimeSeries</td>\n",
       "      <td>Instant</td>\n",
       "      <td>2024-06-27 10:10:00</td>\n",
       "      <td>2025-05-15 20:30:00</td>\n",
       "      <td>2024-06-27 10:10:00</td>\n",
       "      <td>2025-05-15 20:30:00</td>\n",
       "      <td>Control Charts</td>\n",
       "    </tr>\n",
       "    <tr>\n",
       "      <th>7</th>\n",
       "      <td>Patea at Stratford</td>\n",
       "      <td>AirT-7day</td>\n",
       "      <td>deg.C</td>\n",
       "      <td>2</td>\n",
       "      <td>1</td>\n",
       "      <td>Air Temperature (Continuous)</td>\n",
       "      <td>StdSeries</td>\n",
       "      <td>SimpleTimeSeries</td>\n",
       "      <td>Instant</td>\n",
       "      <td>2024-06-27 10:10:00</td>\n",
       "      <td>2025-05-15 20:30:00</td>\n",
       "      <td>2024-06-30 22:10:00</td>\n",
       "      <td>2025-05-15 20:30:00</td>\n",
       "      <td>NaN</td>\n",
       "    </tr>\n",
       "    <tr>\n",
       "      <th>8</th>\n",
       "      <td>Patea at Stratford</td>\n",
       "      <td>Wind Direction</td>\n",
       "      <td>deg</td>\n",
       "      <td>0</td>\n",
       "      <td>1</td>\n",
       "      <td>Wind Direction</td>\n",
       "      <td>StdSeries</td>\n",
       "      <td>SimpleTimeSeries</td>\n",
       "      <td>Instant</td>\n",
       "      <td>2024-06-27 10:10:00</td>\n",
       "      <td>2025-05-15 20:30:00</td>\n",
       "      <td>NaT</td>\n",
       "      <td>NaT</td>\n",
       "      <td>NaN</td>\n",
       "    </tr>\n",
       "    <tr>\n",
       "      <th>9</th>\n",
       "      <td>Patea at Stratford</td>\n",
       "      <td>WD-smoothed</td>\n",
       "      <td>NaN</td>\n",
       "      <td>2</td>\n",
       "      <td>1</td>\n",
       "      <td>Wind Direction</td>\n",
       "      <td>StdSeries</td>\n",
       "      <td>SimpleTimeSeries</td>\n",
       "      <td>Instant</td>\n",
       "      <td>2024-06-27 10:10:00</td>\n",
       "      <td>2025-05-15 20:30:00</td>\n",
       "      <td>2024-06-27 10:10:00</td>\n",
       "      <td>2025-05-15 20:30:00</td>\n",
       "      <td>VirtualChecks</td>\n",
       "    </tr>\n",
       "    <tr>\n",
       "      <th>10</th>\n",
       "      <td>Patea at Stratford</td>\n",
       "      <td>Westerly</td>\n",
       "      <td>NaN</td>\n",
       "      <td>2</td>\n",
       "      <td>1</td>\n",
       "      <td>Wind Direction</td>\n",
       "      <td>StdSeries</td>\n",
       "      <td>SimpleTimeSeries</td>\n",
       "      <td>Instant</td>\n",
       "      <td>2024-06-27 10:10:00</td>\n",
       "      <td>2025-05-15 20:30:00</td>\n",
       "      <td>2024-06-27 10:10:00</td>\n",
       "      <td>2025-05-15 20:30:00</td>\n",
       "      <td>VirtualChecks</td>\n",
       "    </tr>\n",
       "    <tr>\n",
       "      <th>11</th>\n",
       "      <td>Patea at Stratford</td>\n",
       "      <td>NorthWind-7day</td>\n",
       "      <td>NaN</td>\n",
       "      <td>2</td>\n",
       "      <td>1</td>\n",
       "      <td>Wind Direction</td>\n",
       "      <td>StdSeries</td>\n",
       "      <td>SimpleTimeSeries</td>\n",
       "      <td>Instant</td>\n",
       "      <td>2024-06-27 10:10:00</td>\n",
       "      <td>2025-05-15 20:30:00</td>\n",
       "      <td>2024-06-27 10:10:00</td>\n",
       "      <td>2025-05-15 20:30:00</td>\n",
       "      <td>VirtualChecks</td>\n",
       "    </tr>\n",
       "    <tr>\n",
       "      <th>12</th>\n",
       "      <td>Patea at Stratford</td>\n",
       "      <td>WestWind-7day</td>\n",
       "      <td>NaN</td>\n",
       "      <td>2</td>\n",
       "      <td>1</td>\n",
       "      <td>Wind Direction</td>\n",
       "      <td>StdSeries</td>\n",
       "      <td>SimpleTimeSeries</td>\n",
       "      <td>Instant</td>\n",
       "      <td>2024-06-27 10:10:00</td>\n",
       "      <td>2025-05-15 20:30:00</td>\n",
       "      <td>2024-06-27 10:10:00</td>\n",
       "      <td>2025-05-15 20:30:00</td>\n",
       "      <td>VirtualChecks</td>\n",
       "    </tr>\n",
       "    <tr>\n",
       "      <th>13</th>\n",
       "      <td>Patea at Stratford</td>\n",
       "      <td>WD TimeStep_600</td>\n",
       "      <td>deg</td>\n",
       "      <td>2</td>\n",
       "      <td>1</td>\n",
       "      <td>Wind Direction</td>\n",
       "      <td>StdSeries</td>\n",
       "      <td>SimpleTimeSeries</td>\n",
       "      <td>Instant</td>\n",
       "      <td>2024-06-27 10:10:00</td>\n",
       "      <td>2025-05-15 20:30:00</td>\n",
       "      <td>2024-06-27 10:10:00</td>\n",
       "      <td>2025-05-15 20:30:00</td>\n",
       "      <td>VirtualChecks</td>\n",
       "    </tr>\n",
       "    <tr>\n",
       "      <th>14</th>\n",
       "      <td>Patea at Stratford</td>\n",
       "      <td>Northerly</td>\n",
       "      <td>NaN</td>\n",
       "      <td>2</td>\n",
       "      <td>1</td>\n",
       "      <td>Wind Direction</td>\n",
       "      <td>StdSeries</td>\n",
       "      <td>SimpleTimeSeries</td>\n",
       "      <td>Instant</td>\n",
       "      <td>2024-06-27 10:10:00</td>\n",
       "      <td>2025-05-15 20:30:00</td>\n",
       "      <td>2024-06-27 10:10:00</td>\n",
       "      <td>2025-05-15 20:30:00</td>\n",
       "      <td>VirtualChecks</td>\n",
       "    </tr>\n",
       "    <tr>\n",
       "      <th>15</th>\n",
       "      <td>Patea at Stratford</td>\n",
       "      <td>NorthVector</td>\n",
       "      <td>km/hr</td>\n",
       "      <td>2</td>\n",
       "      <td>1</td>\n",
       "      <td>Wind Direction</td>\n",
       "      <td>StdSeries</td>\n",
       "      <td>SimpleTimeSeries</td>\n",
       "      <td>Instant</td>\n",
       "      <td>2024-06-27 10:10:00</td>\n",
       "      <td>2025-05-15 20:30:00</td>\n",
       "      <td>2024-06-27 10:10:00</td>\n",
       "      <td>2025-05-15 20:30:00</td>\n",
       "      <td>VirtualChecks</td>\n",
       "    </tr>\n",
       "    <tr>\n",
       "      <th>16</th>\n",
       "      <td>Patea at Stratford</td>\n",
       "      <td>WestVector</td>\n",
       "      <td>km/hr</td>\n",
       "      <td>2</td>\n",
       "      <td>1</td>\n",
       "      <td>Wind Direction</td>\n",
       "      <td>StdSeries</td>\n",
       "      <td>SimpleTimeSeries</td>\n",
       "      <td>Instant</td>\n",
       "      <td>2024-06-27 10:10:00</td>\n",
       "      <td>2025-05-15 20:30:00</td>\n",
       "      <td>2024-06-27 10:10:00</td>\n",
       "      <td>2025-05-15 20:30:00</td>\n",
       "      <td>VirtualChecks</td>\n",
       "    </tr>\n",
       "    <tr>\n",
       "      <th>17</th>\n",
       "      <td>Patea at Stratford</td>\n",
       "      <td>Maximum wind gust</td>\n",
       "      <td>km/hr</td>\n",
       "      <td>1</td>\n",
       "      <td>1</td>\n",
       "      <td>Maximum wind Gust</td>\n",
       "      <td>StdSeries</td>\n",
       "      <td>SimpleTimeSeries</td>\n",
       "      <td>Instant</td>\n",
       "      <td>2024-06-27 10:10:00</td>\n",
       "      <td>2025-05-15 20:30:00</td>\n",
       "      <td>NaT</td>\n",
       "      <td>NaT</td>\n",
       "      <td>NaN</td>\n",
       "    </tr>\n",
       "    <tr>\n",
       "      <th>18</th>\n",
       "      <td>Patea at Stratford</td>\n",
       "      <td>MWG TimeStep_600</td>\n",
       "      <td>NaN</td>\n",
       "      <td>2</td>\n",
       "      <td>1</td>\n",
       "      <td>Maximum wind Gust</td>\n",
       "      <td>StdSeries</td>\n",
       "      <td>SimpleTimeSeries</td>\n",
       "      <td>Instant</td>\n",
       "      <td>2024-06-27 10:10:00</td>\n",
       "      <td>2025-05-15 20:30:00</td>\n",
       "      <td>2024-06-27 10:10:00</td>\n",
       "      <td>2025-05-15 20:30:00</td>\n",
       "      <td>VirtualChecks</td>\n",
       "    </tr>\n",
       "    <tr>\n",
       "      <th>19</th>\n",
       "      <td>Patea at Stratford</td>\n",
       "      <td>MaxDayGust</td>\n",
       "      <td>km/hr</td>\n",
       "      <td>2</td>\n",
       "      <td>1</td>\n",
       "      <td>Maximum wind Gust</td>\n",
       "      <td>StdSeries</td>\n",
       "      <td>SimpleTimeSeries</td>\n",
       "      <td>Instant</td>\n",
       "      <td>2024-06-27 10:10:00</td>\n",
       "      <td>2025-05-15 20:30:00</td>\n",
       "      <td>2024-06-27 10:10:00</td>\n",
       "      <td>2025-05-15 20:30:00</td>\n",
       "      <td>NaN</td>\n",
       "    </tr>\n",
       "    <tr>\n",
       "      <th>20</th>\n",
       "      <td>Patea at Stratford</td>\n",
       "      <td>Wind Speed</td>\n",
       "      <td>km/hr</td>\n",
       "      <td>1</td>\n",
       "      <td>1</td>\n",
       "      <td>Wind Speed</td>\n",
       "      <td>StdSeries</td>\n",
       "      <td>SimpleTimeSeries</td>\n",
       "      <td>Instant</td>\n",
       "      <td>2024-06-27 10:10:00</td>\n",
       "      <td>2025-05-15 20:30:00</td>\n",
       "      <td>NaT</td>\n",
       "      <td>NaT</td>\n",
       "      <td>NaN</td>\n",
       "    </tr>\n",
       "    <tr>\n",
       "      <th>21</th>\n",
       "      <td>Patea at Stratford</td>\n",
       "      <td>WS TimeStep_600</td>\n",
       "      <td>NaN</td>\n",
       "      <td>2</td>\n",
       "      <td>1</td>\n",
       "      <td>Wind Speed</td>\n",
       "      <td>StdSeries</td>\n",
       "      <td>SimpleTimeSeries</td>\n",
       "      <td>Instant</td>\n",
       "      <td>2024-06-27 10:10:00</td>\n",
       "      <td>2025-05-15 20:30:00</td>\n",
       "      <td>2024-06-27 10:10:00</td>\n",
       "      <td>2025-05-15 20:30:00</td>\n",
       "      <td>VirtualChecks</td>\n",
       "    </tr>\n",
       "  </tbody>\n",
       "</table>\n",
       "</div>"
      ],
      "text/plain": [
       "              SiteName               MeasurementName  Units  Precision  Item  \\\n",
       "0   Patea at Stratford                      Rainfall     mm          1     1   \n",
       "1   Patea at Stratford           Rainfall-Difference    NaN          2     1   \n",
       "2   Patea at Stratford                RF TimeStep_60    NaN          2     1   \n",
       "3   Patea at Stratford                       Voltage      V          2     1   \n",
       "4   Patea at Stratford  Air Temperature (Continuous)     oC          2     1   \n",
       "5   Patea at Stratford               AT TimeStep_600    NaN          2     1   \n",
       "6   Patea at Stratford              Air Temp Diff CC      C          2     1   \n",
       "7   Patea at Stratford                     AirT-7day  deg.C          2     1   \n",
       "8   Patea at Stratford                Wind Direction    deg          0     1   \n",
       "9   Patea at Stratford                   WD-smoothed    NaN          2     1   \n",
       "10  Patea at Stratford                      Westerly    NaN          2     1   \n",
       "11  Patea at Stratford                NorthWind-7day    NaN          2     1   \n",
       "12  Patea at Stratford                 WestWind-7day    NaN          2     1   \n",
       "13  Patea at Stratford               WD TimeStep_600    deg          2     1   \n",
       "14  Patea at Stratford                     Northerly    NaN          2     1   \n",
       "15  Patea at Stratford                   NorthVector  km/hr          2     1   \n",
       "16  Patea at Stratford                    WestVector  km/hr          2     1   \n",
       "17  Patea at Stratford             Maximum wind gust  km/hr          1     1   \n",
       "18  Patea at Stratford              MWG TimeStep_600    NaN          2     1   \n",
       "19  Patea at Stratford                    MaxDayGust  km/hr          2     1   \n",
       "20  Patea at Stratford                    Wind Speed  km/hr          1     1   \n",
       "21  Patea at Stratford               WS TimeStep_600    NaN          2     1   \n",
       "\n",
       "                  DataSourceName     TSType          DataType Interpolation  \\\n",
       "0                       Rainfall  StdSeries  SimpleTimeSeries   Incremental   \n",
       "1                       Rainfall  StdSeries  SimpleTimeSeries   Incremental   \n",
       "2                       Rainfall  StdSeries  SimpleTimeSeries   Incremental   \n",
       "3                        Voltage  StdSeries  SimpleTimeSeries       Instant   \n",
       "4   Air Temperature (Continuous)  StdSeries  SimpleTimeSeries       Instant   \n",
       "5   Air Temperature (Continuous)  StdSeries  SimpleTimeSeries       Instant   \n",
       "6   Air Temperature (Continuous)  StdSeries  SimpleTimeSeries       Instant   \n",
       "7   Air Temperature (Continuous)  StdSeries  SimpleTimeSeries       Instant   \n",
       "8                 Wind Direction  StdSeries  SimpleTimeSeries       Instant   \n",
       "9                 Wind Direction  StdSeries  SimpleTimeSeries       Instant   \n",
       "10                Wind Direction  StdSeries  SimpleTimeSeries       Instant   \n",
       "11                Wind Direction  StdSeries  SimpleTimeSeries       Instant   \n",
       "12                Wind Direction  StdSeries  SimpleTimeSeries       Instant   \n",
       "13                Wind Direction  StdSeries  SimpleTimeSeries       Instant   \n",
       "14                Wind Direction  StdSeries  SimpleTimeSeries       Instant   \n",
       "15                Wind Direction  StdSeries  SimpleTimeSeries       Instant   \n",
       "16                Wind Direction  StdSeries  SimpleTimeSeries       Instant   \n",
       "17             Maximum wind Gust  StdSeries  SimpleTimeSeries       Instant   \n",
       "18             Maximum wind Gust  StdSeries  SimpleTimeSeries       Instant   \n",
       "19             Maximum wind Gust  StdSeries  SimpleTimeSeries       Instant   \n",
       "20                    Wind Speed  StdSeries  SimpleTimeSeries       Instant   \n",
       "21                    Wind Speed  StdSeries  SimpleTimeSeries       Instant   \n",
       "\n",
       "                  From                  To             VMStart  \\\n",
       "0  2024-06-27 10:01:00 2025-05-15 20:31:00                 NaT   \n",
       "1  2024-06-27 10:01:00 2025-05-15 20:31:00 2024-06-27 10:01:00   \n",
       "2  2024-06-27 10:01:00 2025-05-15 20:31:00 2024-06-27 10:01:00   \n",
       "3  2024-06-27 10:30:00 2025-05-15 20:30:00                 NaT   \n",
       "4  2024-06-27 10:10:00 2025-05-15 20:30:00                 NaT   \n",
       "5  2024-06-27 10:10:00 2025-05-15 20:30:00 2024-06-27 10:10:00   \n",
       "6  2024-06-27 10:10:00 2025-05-15 20:30:00 2024-06-27 10:10:00   \n",
       "7  2024-06-27 10:10:00 2025-05-15 20:30:00 2024-06-30 22:10:00   \n",
       "8  2024-06-27 10:10:00 2025-05-15 20:30:00                 NaT   \n",
       "9  2024-06-27 10:10:00 2025-05-15 20:30:00 2024-06-27 10:10:00   \n",
       "10 2024-06-27 10:10:00 2025-05-15 20:30:00 2024-06-27 10:10:00   \n",
       "11 2024-06-27 10:10:00 2025-05-15 20:30:00 2024-06-27 10:10:00   \n",
       "12 2024-06-27 10:10:00 2025-05-15 20:30:00 2024-06-27 10:10:00   \n",
       "13 2024-06-27 10:10:00 2025-05-15 20:30:00 2024-06-27 10:10:00   \n",
       "14 2024-06-27 10:10:00 2025-05-15 20:30:00 2024-06-27 10:10:00   \n",
       "15 2024-06-27 10:10:00 2025-05-15 20:30:00 2024-06-27 10:10:00   \n",
       "16 2024-06-27 10:10:00 2025-05-15 20:30:00 2024-06-27 10:10:00   \n",
       "17 2024-06-27 10:10:00 2025-05-15 20:30:00                 NaT   \n",
       "18 2024-06-27 10:10:00 2025-05-15 20:30:00 2024-06-27 10:10:00   \n",
       "19 2024-06-27 10:10:00 2025-05-15 20:30:00 2024-06-27 10:10:00   \n",
       "20 2024-06-27 10:10:00 2025-05-15 20:30:00                 NaT   \n",
       "21 2024-06-27 10:10:00 2025-05-15 20:30:00 2024-06-27 10:10:00   \n",
       "\n",
       "              VMFinish MeasurementGroup  \n",
       "0                  NaT              NaN  \n",
       "1  2025-05-15 20:31:00              NaN  \n",
       "2  2025-05-15 20:31:00    VirtualChecks  \n",
       "3                  NaT              NaN  \n",
       "4                  NaT              NaN  \n",
       "5  2025-05-15 20:30:00    VirtualChecks  \n",
       "6  2025-05-15 20:30:00   Control Charts  \n",
       "7  2025-05-15 20:30:00              NaN  \n",
       "8                  NaT              NaN  \n",
       "9  2025-05-15 20:30:00    VirtualChecks  \n",
       "10 2025-05-15 20:30:00    VirtualChecks  \n",
       "11 2025-05-15 20:30:00    VirtualChecks  \n",
       "12 2025-05-15 20:30:00    VirtualChecks  \n",
       "13 2025-05-15 20:30:00    VirtualChecks  \n",
       "14 2025-05-15 20:30:00    VirtualChecks  \n",
       "15 2025-05-15 20:30:00    VirtualChecks  \n",
       "16 2025-05-15 20:30:00    VirtualChecks  \n",
       "17                 NaT              NaN  \n",
       "18 2025-05-15 20:30:00    VirtualChecks  \n",
       "19 2025-05-15 20:30:00              NaN  \n",
       "20                 NaT              NaN  \n",
       "21 2025-05-15 20:30:00    VirtualChecks  "
      ]
     },
     "execution_count": 5,
     "metadata": {},
     "output_type": "execute_result"
    }
   ],
   "source": [
    "\n",
    "site_meas = ht.get_measurement_list(site)\n",
    "site_meas"
   ]
  },
  {
   "cell_type": "code",
   "execution_count": null,
   "metadata": {},
   "outputs": [
    {
     "data": {
      "application/vnd.microsoft.datawrangler.viewer.v0+json": {
       "columns": [
        {
         "name": "index",
         "rawType": "int64",
         "type": "integer"
        },
        {
         "name": "SiteName",
         "rawType": "object",
         "type": "string"
        },
        {
         "name": "MeasurementName",
         "rawType": "object",
         "type": "string"
        },
        {
         "name": "Time",
         "rawType": "datetime64[ns]",
         "type": "datetime"
        },
        {
         "name": "Value",
         "rawType": "float64",
         "type": "float"
        }
       ],
       "conversionMethod": "pd.DataFrame",
       "ref": "812a9ce1-f2bb-4748-92c4-2172d05b1bf4",
       "rows": [
        [
         "0",
         "Patea at Stratford",
         "Air Temperature (Continuous)",
         "2025-05-01 00:00:00",
         "16.854641"
        ],
        [
         "1",
         "Patea at Stratford",
         "Air Temperature (Continuous)",
         "2025-05-01 00:10:00",
         "16.795223"
        ],
        [
         "2",
         "Patea at Stratford",
         "Air Temperature (Continuous)",
         "2025-05-01 00:20:00",
         "16.731232"
        ],
        [
         "3",
         "Patea at Stratford",
         "Air Temperature (Continuous)",
         "2025-05-01 00:30:00",
         "16.740372"
        ],
        [
         "4",
         "Patea at Stratford",
         "Air Temperature (Continuous)",
         "2025-05-01 00:40:00",
         "16.731232"
        ]
       ],
       "shape": {
        "columns": 4,
        "rows": 5
       }
      },
      "text/html": [
       "<div>\n",
       "<style scoped>\n",
       "    .dataframe tbody tr th:only-of-type {\n",
       "        vertical-align: middle;\n",
       "    }\n",
       "\n",
       "    .dataframe tbody tr th {\n",
       "        vertical-align: top;\n",
       "    }\n",
       "\n",
       "    .dataframe thead th {\n",
       "        text-align: right;\n",
       "    }\n",
       "</style>\n",
       "<table border=\"1\" class=\"dataframe\">\n",
       "  <thead>\n",
       "    <tr style=\"text-align: right;\">\n",
       "      <th></th>\n",
       "      <th>SiteName</th>\n",
       "      <th>MeasurementName</th>\n",
       "      <th>Time</th>\n",
       "      <th>Value</th>\n",
       "    </tr>\n",
       "  </thead>\n",
       "  <tbody>\n",
       "    <tr>\n",
       "      <th>0</th>\n",
       "      <td>Patea at Stratford</td>\n",
       "      <td>Air Temperature (Continuous)</td>\n",
       "      <td>2025-05-01 00:00:00</td>\n",
       "      <td>16.854641</td>\n",
       "    </tr>\n",
       "    <tr>\n",
       "      <th>1</th>\n",
       "      <td>Patea at Stratford</td>\n",
       "      <td>Air Temperature (Continuous)</td>\n",
       "      <td>2025-05-01 00:10:00</td>\n",
       "      <td>16.795223</td>\n",
       "    </tr>\n",
       "    <tr>\n",
       "      <th>2</th>\n",
       "      <td>Patea at Stratford</td>\n",
       "      <td>Air Temperature (Continuous)</td>\n",
       "      <td>2025-05-01 00:20:00</td>\n",
       "      <td>16.731232</td>\n",
       "    </tr>\n",
       "    <tr>\n",
       "      <th>3</th>\n",
       "      <td>Patea at Stratford</td>\n",
       "      <td>Air Temperature (Continuous)</td>\n",
       "      <td>2025-05-01 00:30:00</td>\n",
       "      <td>16.740372</td>\n",
       "    </tr>\n",
       "    <tr>\n",
       "      <th>4</th>\n",
       "      <td>Patea at Stratford</td>\n",
       "      <td>Air Temperature (Continuous)</td>\n",
       "      <td>2025-05-01 00:40:00</td>\n",
       "      <td>16.731232</td>\n",
       "    </tr>\n",
       "  </tbody>\n",
       "</table>\n",
       "</div>"
      ],
      "text/plain": [
       "             SiteName               MeasurementName                Time  \\\n",
       "0  Patea at Stratford  Air Temperature (Continuous) 2025-05-01 00:00:00   \n",
       "1  Patea at Stratford  Air Temperature (Continuous) 2025-05-01 00:10:00   \n",
       "2  Patea at Stratford  Air Temperature (Continuous) 2025-05-01 00:20:00   \n",
       "3  Patea at Stratford  Air Temperature (Continuous) 2025-05-01 00:30:00   \n",
       "4  Patea at Stratford  Air Temperature (Continuous) 2025-05-01 00:40:00   \n",
       "\n",
       "       Value  \n",
       "0  16.854641  \n",
       "1  16.795223  \n",
       "2  16.731232  \n",
       "3  16.740372  \n",
       "4  16.731232  "
      ]
     },
     "execution_count": 12,
     "metadata": {},
     "output_type": "execute_result"
    }
   ],
   "source": [
    "from hilltoppy import Hilltop, utils\n",
    "base_url = 'https://extranet.trc.govt.nz/getdata/'\n",
    "hts = 'boo.hts'\n",
    "site = 'Patea at Stratford'\n",
    "measurement = 'Air Temperature (Continuous)'\n",
    "from_date = '2025-05-01'\n",
    "to_date = '2025-05-15'\n",
    "ht = Hilltop(base_url, hts)\n",
    "tsdata = ht.get_data(site, measurement, from_date=from_date, to_date=to_date)"
   ]
  },
  {
   "cell_type": "code",
   "execution_count": 13,
   "metadata": {},
   "outputs": [
    {
     "data": {
      "application/vnd.plotly.v1+json": {
       "config": {
        "plotlyServerURL": "https://plot.ly"
       },
       "data": [
        {
         "hovertemplate": "Time=%{x}<br>Value=%{y}<extra></extra>",
         "legendgroup": "",
         "line": {
          "color": "#636efa",
          "dash": "solid"
         },
         "marker": {
          "symbol": "circle"
         },
         "mode": "lines",
         "name": "",
         "showlegend": false,
         "type": "scattergl",
         "x": [
          "2025-05-01T00:00:00",
          "2025-05-01T00:10:00",
          "2025-05-01T00:20:00",
          "2025-05-01T00:30:00",
          "2025-05-01T00:40:00",
          "2025-05-01T00:50:00",
          "2025-05-01T01:00:00",
          "2025-05-01T01:10:00",
          "2025-05-01T01:20:00",
          "2025-05-01T01:30:00",
          "2025-05-01T01:40:00",
          "2025-05-01T01:50:00",
          "2025-05-01T02:00:00",
          "2025-05-01T02:10:00",
          "2025-05-01T02:20:00",
          "2025-05-01T02:30:00",
          "2025-05-01T02:40:00",
          "2025-05-01T02:50:00",
          "2025-05-01T03:00:00",
          "2025-05-01T03:10:00",
          "2025-05-01T03:20:00",
          "2025-05-01T03:30:00",
          "2025-05-01T03:40:00",
          "2025-05-01T03:50:00",
          "2025-05-01T04:00:00",
          "2025-05-01T04:10:00",
          "2025-05-01T04:20:00",
          "2025-05-01T04:30:00",
          "2025-05-01T04:40:00",
          "2025-05-01T04:50:00",
          "2025-05-01T05:00:00",
          "2025-05-01T05:10:00",
          "2025-05-01T05:20:00",
          "2025-05-01T05:30:00",
          "2025-05-01T05:40:00",
          "2025-05-01T05:50:00",
          "2025-05-01T06:00:00",
          "2025-05-01T06:10:00",
          "2025-05-01T06:20:00",
          "2025-05-01T06:30:00",
          "2025-05-01T06:40:00",
          "2025-05-01T06:50:00",
          "2025-05-01T07:00:00",
          "2025-05-01T07:10:00",
          "2025-05-01T07:20:00",
          "2025-05-01T07:30:00",
          "2025-05-01T07:40:00",
          "2025-05-01T07:50:00",
          "2025-05-01T08:00:00",
          "2025-05-01T08:10:00",
          "2025-05-01T08:20:00",
          "2025-05-01T08:30:00",
          "2025-05-01T08:40:00",
          "2025-05-01T08:50:00",
          "2025-05-01T09:00:00",
          "2025-05-01T09:10:00",
          "2025-05-01T09:20:00",
          "2025-05-01T09:30:00",
          "2025-05-01T09:40:00",
          "2025-05-01T09:50:00",
          "2025-05-01T10:00:00",
          "2025-05-01T10:10:00",
          "2025-05-01T10:20:00",
          "2025-05-01T10:30:00",
          "2025-05-01T10:40:00",
          "2025-05-01T10:50:00",
          "2025-05-01T11:00:00",
          "2025-05-01T11:10:00",
          "2025-05-01T11:20:00",
          "2025-05-01T11:30:00",
          "2025-05-01T11:40:00",
          "2025-05-01T11:50:00",
          "2025-05-01T12:00:00",
          "2025-05-01T12:10:00",
          "2025-05-01T12:20:00",
          "2025-05-01T12:30:00",
          "2025-05-01T12:40:00",
          "2025-05-01T12:50:00",
          "2025-05-01T13:00:00",
          "2025-05-01T13:10:00",
          "2025-05-01T13:20:00",
          "2025-05-01T13:30:00",
          "2025-05-01T13:40:00",
          "2025-05-01T13:50:00",
          "2025-05-01T14:00:00",
          "2025-05-01T14:10:00",
          "2025-05-01T14:20:00",
          "2025-05-01T14:30:00",
          "2025-05-01T14:40:00",
          "2025-05-01T14:50:00",
          "2025-05-01T15:00:00",
          "2025-05-01T15:10:00",
          "2025-05-01T15:20:00",
          "2025-05-01T15:30:00",
          "2025-05-01T15:40:00",
          "2025-05-01T15:50:00",
          "2025-05-01T16:00:00",
          "2025-05-01T16:10:00",
          "2025-05-01T16:20:00",
          "2025-05-01T16:30:00",
          "2025-05-01T16:40:00",
          "2025-05-01T16:50:00",
          "2025-05-01T17:00:00",
          "2025-05-01T17:10:00",
          "2025-05-01T17:20:00",
          "2025-05-01T17:30:00",
          "2025-05-01T17:40:00",
          "2025-05-01T17:50:00",
          "2025-05-01T18:00:00",
          "2025-05-01T18:10:00",
          "2025-05-01T18:20:00",
          "2025-05-01T18:30:00",
          "2025-05-01T18:40:00",
          "2025-05-01T18:50:00",
          "2025-05-01T19:00:00",
          "2025-05-01T19:10:00",
          "2025-05-01T19:20:00",
          "2025-05-01T19:30:00",
          "2025-05-01T19:40:00",
          "2025-05-01T19:50:00",
          "2025-05-01T20:00:00",
          "2025-05-01T20:10:00",
          "2025-05-01T20:20:00",
          "2025-05-01T20:30:00",
          "2025-05-01T20:40:00",
          "2025-05-01T20:50:00",
          "2025-05-01T21:00:00",
          "2025-05-01T21:10:00",
          "2025-05-01T21:20:00",
          "2025-05-01T21:30:00",
          "2025-05-01T21:40:00",
          "2025-05-01T21:50:00",
          "2025-05-01T22:00:00",
          "2025-05-01T22:10:00",
          "2025-05-01T22:20:00",
          "2025-05-01T22:30:00",
          "2025-05-01T22:40:00",
          "2025-05-01T22:50:00",
          "2025-05-01T23:00:00",
          "2025-05-01T23:10:00",
          "2025-05-01T23:20:00",
          "2025-05-01T23:30:00",
          "2025-05-01T23:40:00",
          "2025-05-01T23:50:00",
          "2025-05-02T00:00:00",
          "2025-05-02T00:10:00",
          "2025-05-02T00:20:00",
          "2025-05-02T00:30:00",
          "2025-05-02T00:40:00",
          "2025-05-02T00:50:00",
          "2025-05-02T01:00:00",
          "2025-05-02T01:10:00",
          "2025-05-02T01:20:00",
          "2025-05-02T01:30:00",
          "2025-05-02T01:40:00",
          "2025-05-02T01:50:00",
          "2025-05-02T02:00:00",
          "2025-05-02T02:10:00",
          "2025-05-02T02:20:00",
          "2025-05-02T02:30:00",
          "2025-05-02T02:40:00",
          "2025-05-02T02:50:00",
          "2025-05-02T03:00:00",
          "2025-05-02T03:10:00",
          "2025-05-02T03:20:00",
          "2025-05-02T03:30:00",
          "2025-05-02T03:40:00",
          "2025-05-02T03:50:00",
          "2025-05-02T04:00:00",
          "2025-05-02T04:10:00",
          "2025-05-02T04:20:00",
          "2025-05-02T04:30:00",
          "2025-05-02T04:40:00",
          "2025-05-02T04:50:00",
          "2025-05-02T05:00:00",
          "2025-05-02T05:10:00",
          "2025-05-02T05:20:00",
          "2025-05-02T05:30:00",
          "2025-05-02T05:40:00",
          "2025-05-02T05:50:00",
          "2025-05-02T06:00:00",
          "2025-05-02T06:10:00",
          "2025-05-02T06:20:00",
          "2025-05-02T06:30:00",
          "2025-05-02T06:40:00",
          "2025-05-02T06:50:00",
          "2025-05-02T07:00:00",
          "2025-05-02T07:10:00",
          "2025-05-02T07:20:00",
          "2025-05-02T07:30:00",
          "2025-05-02T07:40:00",
          "2025-05-02T07:50:00",
          "2025-05-02T08:00:00",
          "2025-05-02T08:10:00",
          "2025-05-02T08:20:00",
          "2025-05-02T08:30:00",
          "2025-05-02T08:40:00",
          "2025-05-02T08:50:00",
          "2025-05-02T09:00:00",
          "2025-05-02T09:10:00",
          "2025-05-02T09:20:00",
          "2025-05-02T09:30:00",
          "2025-05-02T09:40:00",
          "2025-05-02T09:50:00",
          "2025-05-02T10:00:00",
          "2025-05-02T10:10:00",
          "2025-05-02T10:20:00",
          "2025-05-02T10:30:00",
          "2025-05-02T10:40:00",
          "2025-05-02T10:50:00",
          "2025-05-02T11:00:00",
          "2025-05-02T11:10:00",
          "2025-05-02T11:20:00",
          "2025-05-02T11:30:00",
          "2025-05-02T11:40:00",
          "2025-05-02T11:50:00",
          "2025-05-02T12:00:00",
          "2025-05-02T12:10:00",
          "2025-05-02T12:20:00",
          "2025-05-02T12:30:00",
          "2025-05-02T12:40:00",
          "2025-05-02T12:50:00",
          "2025-05-02T13:00:00",
          "2025-05-02T13:10:00",
          "2025-05-02T13:20:00",
          "2025-05-02T13:30:00",
          "2025-05-02T13:40:00",
          "2025-05-02T13:50:00",
          "2025-05-02T14:00:00",
          "2025-05-02T14:10:00",
          "2025-05-02T14:20:00",
          "2025-05-02T14:30:00",
          "2025-05-02T14:40:00",
          "2025-05-02T14:50:00",
          "2025-05-02T15:00:00",
          "2025-05-02T15:10:00",
          "2025-05-02T15:20:00",
          "2025-05-02T15:30:00",
          "2025-05-02T15:40:00",
          "2025-05-02T15:50:00",
          "2025-05-02T16:00:00",
          "2025-05-02T16:10:00",
          "2025-05-02T16:20:00",
          "2025-05-02T16:30:00",
          "2025-05-02T16:40:00",
          "2025-05-02T16:50:00",
          "2025-05-02T17:00:00",
          "2025-05-02T17:10:00",
          "2025-05-02T17:20:00",
          "2025-05-02T17:30:00",
          "2025-05-02T17:40:00",
          "2025-05-02T17:50:00",
          "2025-05-02T18:00:00",
          "2025-05-02T18:10:00",
          "2025-05-02T18:20:00",
          "2025-05-02T18:30:00",
          "2025-05-02T18:40:00",
          "2025-05-02T18:50:00",
          "2025-05-02T19:00:00",
          "2025-05-02T19:10:00",
          "2025-05-02T19:20:00",
          "2025-05-02T19:30:00",
          "2025-05-02T19:40:00",
          "2025-05-02T19:50:00",
          "2025-05-02T20:00:00",
          "2025-05-02T20:10:00",
          "2025-05-02T20:20:00",
          "2025-05-02T20:30:00",
          "2025-05-02T20:40:00",
          "2025-05-02T20:50:00",
          "2025-05-02T21:00:00",
          "2025-05-02T21:10:00",
          "2025-05-02T21:20:00",
          "2025-05-02T21:30:00",
          "2025-05-02T21:40:00",
          "2025-05-02T21:50:00",
          "2025-05-02T22:00:00",
          "2025-05-02T22:10:00",
          "2025-05-02T22:20:00",
          "2025-05-02T22:30:00",
          "2025-05-02T22:40:00",
          "2025-05-02T22:50:00",
          "2025-05-02T23:00:00",
          "2025-05-02T23:10:00",
          "2025-05-02T23:20:00",
          "2025-05-02T23:30:00",
          "2025-05-02T23:40:00",
          "2025-05-02T23:50:00",
          "2025-05-03T00:00:00",
          "2025-05-03T00:10:00",
          "2025-05-03T00:20:00",
          "2025-05-03T00:30:00",
          "2025-05-03T00:40:00",
          "2025-05-03T00:50:00",
          "2025-05-03T01:00:00",
          "2025-05-03T01:10:00",
          "2025-05-03T01:20:00",
          "2025-05-03T01:30:00",
          "2025-05-03T01:40:00",
          "2025-05-03T01:50:00",
          "2025-05-03T02:00:00",
          "2025-05-03T02:10:00",
          "2025-05-03T02:20:00",
          "2025-05-03T02:30:00",
          "2025-05-03T02:40:00",
          "2025-05-03T02:50:00",
          "2025-05-03T03:00:00",
          "2025-05-03T03:10:00",
          "2025-05-03T03:20:00",
          "2025-05-03T03:30:00",
          "2025-05-03T03:40:00",
          "2025-05-03T03:50:00",
          "2025-05-03T04:00:00",
          "2025-05-03T04:10:00",
          "2025-05-03T04:20:00",
          "2025-05-03T04:30:00",
          "2025-05-03T04:40:00",
          "2025-05-03T04:50:00",
          "2025-05-03T05:00:00",
          "2025-05-03T05:10:00",
          "2025-05-03T05:20:00",
          "2025-05-03T05:30:00",
          "2025-05-03T05:40:00",
          "2025-05-03T05:50:00",
          "2025-05-03T06:00:00",
          "2025-05-03T06:10:00",
          "2025-05-03T06:20:00",
          "2025-05-03T06:30:00",
          "2025-05-03T06:40:00",
          "2025-05-03T06:50:00",
          "2025-05-03T07:00:00",
          "2025-05-03T07:10:00",
          "2025-05-03T07:20:00",
          "2025-05-03T07:30:00",
          "2025-05-03T07:40:00",
          "2025-05-03T07:50:00",
          "2025-05-03T08:00:00",
          "2025-05-03T08:10:00",
          "2025-05-03T08:20:00",
          "2025-05-03T08:30:00",
          "2025-05-03T08:40:00",
          "2025-05-03T08:50:00",
          "2025-05-03T09:00:00",
          "2025-05-03T09:10:00",
          "2025-05-03T09:20:00",
          "2025-05-03T09:30:00",
          "2025-05-03T09:40:00",
          "2025-05-03T09:50:00",
          "2025-05-03T10:00:00",
          "2025-05-03T10:10:00",
          "2025-05-03T10:20:00",
          "2025-05-03T10:30:00",
          "2025-05-03T10:40:00",
          "2025-05-03T10:50:00",
          "2025-05-03T11:00:00",
          "2025-05-03T11:10:00",
          "2025-05-03T11:20:00",
          "2025-05-03T11:30:00",
          "2025-05-03T11:40:00",
          "2025-05-03T11:50:00",
          "2025-05-03T12:00:00",
          "2025-05-03T12:10:00",
          "2025-05-03T12:20:00",
          "2025-05-03T12:30:00",
          "2025-05-03T12:40:00",
          "2025-05-03T12:50:00",
          "2025-05-03T13:00:00",
          "2025-05-03T13:10:00",
          "2025-05-03T13:20:00",
          "2025-05-03T13:30:00",
          "2025-05-03T13:40:00",
          "2025-05-03T13:50:00",
          "2025-05-03T14:00:00",
          "2025-05-03T14:10:00",
          "2025-05-03T14:20:00",
          "2025-05-03T14:30:00",
          "2025-05-03T14:40:00",
          "2025-05-03T14:50:00",
          "2025-05-03T15:00:00",
          "2025-05-03T15:10:00",
          "2025-05-03T15:20:00",
          "2025-05-03T15:30:00",
          "2025-05-03T15:40:00",
          "2025-05-03T15:50:00",
          "2025-05-03T16:00:00",
          "2025-05-03T16:10:00",
          "2025-05-03T16:20:00",
          "2025-05-03T16:30:00",
          "2025-05-03T16:40:00",
          "2025-05-03T16:50:00",
          "2025-05-03T17:00:00",
          "2025-05-03T17:10:00",
          "2025-05-03T17:20:00",
          "2025-05-03T17:30:00",
          "2025-05-03T17:40:00",
          "2025-05-03T17:50:00",
          "2025-05-03T18:00:00",
          "2025-05-03T18:10:00",
          "2025-05-03T18:20:00",
          "2025-05-03T18:30:00",
          "2025-05-03T18:40:00",
          "2025-05-03T18:50:00",
          "2025-05-03T19:00:00",
          "2025-05-03T19:10:00",
          "2025-05-03T19:20:00",
          "2025-05-03T19:30:00",
          "2025-05-03T19:40:00",
          "2025-05-03T19:50:00",
          "2025-05-03T20:00:00",
          "2025-05-03T20:10:00",
          "2025-05-03T20:20:00",
          "2025-05-03T20:30:00",
          "2025-05-03T20:40:00",
          "2025-05-03T20:50:00",
          "2025-05-03T21:00:00",
          "2025-05-03T21:10:00",
          "2025-05-03T21:20:00",
          "2025-05-03T21:30:00",
          "2025-05-03T21:40:00",
          "2025-05-03T21:50:00",
          "2025-05-03T22:00:00",
          "2025-05-03T22:10:00",
          "2025-05-03T22:20:00",
          "2025-05-03T22:30:00",
          "2025-05-03T22:40:00",
          "2025-05-03T22:50:00",
          "2025-05-03T23:00:00",
          "2025-05-03T23:10:00",
          "2025-05-03T23:20:00",
          "2025-05-03T23:30:00",
          "2025-05-03T23:40:00",
          "2025-05-03T23:50:00",
          "2025-05-04T00:00:00",
          "2025-05-04T00:10:00",
          "2025-05-04T00:20:00",
          "2025-05-04T00:30:00",
          "2025-05-04T00:40:00",
          "2025-05-04T00:50:00",
          "2025-05-04T01:00:00",
          "2025-05-04T01:10:00",
          "2025-05-04T01:20:00",
          "2025-05-04T01:30:00",
          "2025-05-04T01:40:00",
          "2025-05-04T01:50:00",
          "2025-05-04T02:00:00",
          "2025-05-04T02:10:00",
          "2025-05-04T02:20:00",
          "2025-05-04T02:30:00",
          "2025-05-04T02:40:00",
          "2025-05-04T02:50:00",
          "2025-05-04T03:00:00",
          "2025-05-04T03:10:00",
          "2025-05-04T03:20:00",
          "2025-05-04T03:30:00",
          "2025-05-04T03:40:00",
          "2025-05-04T03:50:00",
          "2025-05-04T04:00:00",
          "2025-05-04T04:10:00",
          "2025-05-04T04:20:00",
          "2025-05-04T04:30:00",
          "2025-05-04T04:40:00",
          "2025-05-04T04:50:00",
          "2025-05-04T05:00:00",
          "2025-05-04T05:10:00",
          "2025-05-04T05:20:00",
          "2025-05-04T05:30:00",
          "2025-05-04T05:40:00",
          "2025-05-04T05:50:00",
          "2025-05-04T06:00:00",
          "2025-05-04T06:10:00",
          "2025-05-04T06:20:00",
          "2025-05-04T06:30:00",
          "2025-05-04T06:40:00",
          "2025-05-04T06:50:00",
          "2025-05-04T07:00:00",
          "2025-05-04T07:10:00",
          "2025-05-04T07:20:00",
          "2025-05-04T07:30:00",
          "2025-05-04T07:40:00",
          "2025-05-04T07:50:00",
          "2025-05-04T08:00:00",
          "2025-05-04T08:10:00",
          "2025-05-04T08:20:00",
          "2025-05-04T08:30:00",
          "2025-05-04T08:40:00",
          "2025-05-04T08:50:00",
          "2025-05-04T09:00:00",
          "2025-05-04T09:10:00",
          "2025-05-04T09:20:00",
          "2025-05-04T09:30:00",
          "2025-05-04T09:40:00",
          "2025-05-04T09:50:00",
          "2025-05-04T10:00:00",
          "2025-05-04T10:10:00",
          "2025-05-04T10:20:00",
          "2025-05-04T10:30:00",
          "2025-05-04T10:40:00",
          "2025-05-04T10:50:00",
          "2025-05-04T11:00:00",
          "2025-05-04T11:10:00",
          "2025-05-04T11:20:00",
          "2025-05-04T11:30:00",
          "2025-05-04T11:40:00",
          "2025-05-04T11:50:00",
          "2025-05-04T12:00:00",
          "2025-05-04T12:10:00",
          "2025-05-04T12:20:00",
          "2025-05-04T12:30:00",
          "2025-05-04T12:40:00",
          "2025-05-04T12:50:00",
          "2025-05-04T13:00:00",
          "2025-05-04T13:10:00",
          "2025-05-04T13:20:00",
          "2025-05-04T13:30:00",
          "2025-05-04T13:40:00",
          "2025-05-04T13:50:00",
          "2025-05-04T14:00:00",
          "2025-05-04T14:10:00",
          "2025-05-04T14:20:00",
          "2025-05-04T14:30:00",
          "2025-05-04T14:40:00",
          "2025-05-04T14:50:00",
          "2025-05-04T15:00:00",
          "2025-05-04T15:10:00",
          "2025-05-04T15:20:00",
          "2025-05-04T15:30:00",
          "2025-05-04T15:40:00",
          "2025-05-04T15:50:00",
          "2025-05-04T16:00:00",
          "2025-05-04T16:10:00",
          "2025-05-04T16:20:00",
          "2025-05-04T16:30:00",
          "2025-05-04T16:40:00",
          "2025-05-04T16:50:00",
          "2025-05-04T17:00:00",
          "2025-05-04T17:10:00",
          "2025-05-04T17:20:00",
          "2025-05-04T17:30:00",
          "2025-05-04T17:40:00",
          "2025-05-04T17:50:00",
          "2025-05-04T18:00:00",
          "2025-05-04T18:10:00",
          "2025-05-04T18:20:00",
          "2025-05-04T18:30:00",
          "2025-05-04T18:40:00",
          "2025-05-04T18:50:00",
          "2025-05-04T19:00:00",
          "2025-05-04T19:10:00",
          "2025-05-04T19:20:00",
          "2025-05-04T19:30:00",
          "2025-05-04T19:40:00",
          "2025-05-04T19:50:00",
          "2025-05-04T20:00:00",
          "2025-05-04T20:10:00",
          "2025-05-04T20:20:00",
          "2025-05-04T20:30:00",
          "2025-05-04T20:40:00",
          "2025-05-04T20:50:00",
          "2025-05-04T21:00:00",
          "2025-05-04T21:10:00",
          "2025-05-04T21:20:00",
          "2025-05-04T21:30:00",
          "2025-05-04T21:40:00",
          "2025-05-04T21:50:00",
          "2025-05-04T22:00:00",
          "2025-05-04T22:10:00",
          "2025-05-04T22:20:00",
          "2025-05-04T22:30:00",
          "2025-05-04T22:40:00",
          "2025-05-04T22:50:00",
          "2025-05-04T23:00:00",
          "2025-05-04T23:10:00",
          "2025-05-04T23:20:00",
          "2025-05-04T23:30:00",
          "2025-05-04T23:40:00",
          "2025-05-04T23:50:00",
          "2025-05-05T00:00:00",
          "2025-05-05T00:10:00",
          "2025-05-05T00:20:00",
          "2025-05-05T00:30:00",
          "2025-05-05T00:40:00",
          "2025-05-05T00:50:00",
          "2025-05-05T01:00:00",
          "2025-05-05T01:10:00",
          "2025-05-05T01:20:00",
          "2025-05-05T01:30:00",
          "2025-05-05T01:40:00",
          "2025-05-05T01:50:00",
          "2025-05-05T02:00:00",
          "2025-05-05T02:10:00",
          "2025-05-05T02:20:00",
          "2025-05-05T02:30:00",
          "2025-05-05T02:40:00",
          "2025-05-05T02:50:00",
          "2025-05-05T03:00:00",
          "2025-05-05T03:10:00",
          "2025-05-05T03:20:00",
          "2025-05-05T03:30:00",
          "2025-05-05T03:40:00",
          "2025-05-05T03:50:00",
          "2025-05-05T04:00:00",
          "2025-05-05T04:10:00",
          "2025-05-05T04:20:00",
          "2025-05-05T04:30:00",
          "2025-05-05T04:40:00",
          "2025-05-05T04:50:00",
          "2025-05-05T05:00:00",
          "2025-05-05T05:10:00",
          "2025-05-05T05:20:00",
          "2025-05-05T05:30:00",
          "2025-05-05T05:40:00",
          "2025-05-05T05:50:00",
          "2025-05-05T06:00:00",
          "2025-05-05T06:10:00",
          "2025-05-05T06:20:00",
          "2025-05-05T06:30:00",
          "2025-05-05T06:40:00",
          "2025-05-05T06:50:00",
          "2025-05-05T07:00:00",
          "2025-05-05T07:10:00",
          "2025-05-05T07:20:00",
          "2025-05-05T07:30:00",
          "2025-05-05T07:40:00",
          "2025-05-05T07:50:00",
          "2025-05-05T08:00:00",
          "2025-05-05T08:10:00",
          "2025-05-05T08:20:00",
          "2025-05-05T08:30:00",
          "2025-05-05T08:40:00",
          "2025-05-05T08:50:00",
          "2025-05-05T09:00:00",
          "2025-05-05T09:10:00",
          "2025-05-05T09:20:00",
          "2025-05-05T09:30:00",
          "2025-05-05T09:40:00",
          "2025-05-05T09:50:00",
          "2025-05-05T10:00:00",
          "2025-05-05T10:10:00",
          "2025-05-05T10:20:00",
          "2025-05-05T10:30:00",
          "2025-05-05T10:40:00",
          "2025-05-05T10:50:00",
          "2025-05-05T11:00:00",
          "2025-05-05T11:10:00",
          "2025-05-05T11:20:00",
          "2025-05-05T11:30:00",
          "2025-05-05T11:40:00",
          "2025-05-05T11:50:00",
          "2025-05-05T12:00:00",
          "2025-05-05T12:10:00",
          "2025-05-05T12:20:00",
          "2025-05-05T12:30:00",
          "2025-05-05T12:40:00",
          "2025-05-05T12:50:00",
          "2025-05-05T13:00:00",
          "2025-05-05T13:10:00",
          "2025-05-05T13:20:00",
          "2025-05-05T13:30:00",
          "2025-05-05T13:40:00",
          "2025-05-05T13:50:00",
          "2025-05-05T14:00:00",
          "2025-05-05T14:10:00",
          "2025-05-05T14:20:00",
          "2025-05-05T14:30:00",
          "2025-05-05T14:40:00",
          "2025-05-05T14:50:00",
          "2025-05-05T15:00:00",
          "2025-05-05T15:10:00",
          "2025-05-05T15:20:00",
          "2025-05-05T15:30:00",
          "2025-05-05T15:40:00",
          "2025-05-05T15:50:00",
          "2025-05-05T16:00:00",
          "2025-05-05T16:10:00",
          "2025-05-05T16:20:00",
          "2025-05-05T16:30:00",
          "2025-05-05T16:40:00",
          "2025-05-05T16:50:00",
          "2025-05-05T17:00:00",
          "2025-05-05T17:10:00",
          "2025-05-05T17:20:00",
          "2025-05-05T17:30:00",
          "2025-05-05T17:40:00",
          "2025-05-05T17:50:00",
          "2025-05-05T18:00:00",
          "2025-05-05T18:10:00",
          "2025-05-05T18:20:00",
          "2025-05-05T18:30:00",
          "2025-05-05T18:40:00",
          "2025-05-05T18:50:00",
          "2025-05-05T19:00:00",
          "2025-05-05T19:10:00",
          "2025-05-05T19:20:00",
          "2025-05-05T19:30:00",
          "2025-05-05T19:40:00",
          "2025-05-05T19:50:00",
          "2025-05-05T20:00:00",
          "2025-05-05T20:10:00",
          "2025-05-05T20:20:00",
          "2025-05-05T20:30:00",
          "2025-05-05T20:40:00",
          "2025-05-05T20:50:00",
          "2025-05-05T21:00:00",
          "2025-05-05T21:10:00",
          "2025-05-05T21:20:00",
          "2025-05-05T21:30:00",
          "2025-05-05T21:40:00",
          "2025-05-05T21:50:00",
          "2025-05-05T22:00:00",
          "2025-05-05T22:10:00",
          "2025-05-05T22:20:00",
          "2025-05-05T22:30:00",
          "2025-05-05T22:40:00",
          "2025-05-05T22:50:00",
          "2025-05-05T23:00:00",
          "2025-05-05T23:10:00",
          "2025-05-05T23:20:00",
          "2025-05-05T23:30:00",
          "2025-05-05T23:40:00",
          "2025-05-05T23:50:00",
          "2025-05-06T00:00:00",
          "2025-05-06T00:10:00",
          "2025-05-06T00:20:00",
          "2025-05-06T00:30:00",
          "2025-05-06T00:40:00",
          "2025-05-06T00:50:00",
          "2025-05-06T01:00:00",
          "2025-05-06T01:10:00",
          "2025-05-06T01:20:00",
          "2025-05-06T01:30:00",
          "2025-05-06T01:40:00",
          "2025-05-06T01:50:00",
          "2025-05-06T02:00:00",
          "2025-05-06T02:10:00",
          "2025-05-06T02:20:00",
          "2025-05-06T02:30:00",
          "2025-05-06T02:40:00",
          "2025-05-06T02:50:00",
          "2025-05-06T03:00:00",
          "2025-05-06T03:10:00",
          "2025-05-06T03:20:00",
          "2025-05-06T03:30:00",
          "2025-05-06T03:40:00",
          "2025-05-06T03:50:00",
          "2025-05-06T04:00:00",
          "2025-05-06T04:10:00",
          "2025-05-06T04:20:00",
          "2025-05-06T04:30:00",
          "2025-05-06T04:40:00",
          "2025-05-06T04:50:00",
          "2025-05-06T05:00:00",
          "2025-05-06T05:10:00",
          "2025-05-06T05:20:00",
          "2025-05-06T05:30:00",
          "2025-05-06T05:40:00",
          "2025-05-06T05:50:00",
          "2025-05-06T06:00:00",
          "2025-05-06T06:10:00",
          "2025-05-06T06:20:00",
          "2025-05-06T06:30:00",
          "2025-05-06T06:40:00",
          "2025-05-06T06:50:00",
          "2025-05-06T07:00:00",
          "2025-05-06T07:10:00",
          "2025-05-06T07:20:00",
          "2025-05-06T07:30:00",
          "2025-05-06T07:40:00",
          "2025-05-06T07:50:00",
          "2025-05-06T08:00:00",
          "2025-05-06T08:10:00",
          "2025-05-06T08:20:00",
          "2025-05-06T08:30:00",
          "2025-05-06T08:40:00",
          "2025-05-06T08:50:00",
          "2025-05-06T09:00:00",
          "2025-05-06T09:10:00",
          "2025-05-06T09:20:00",
          "2025-05-06T09:30:00",
          "2025-05-06T09:40:00",
          "2025-05-06T09:50:00",
          "2025-05-06T10:00:00",
          "2025-05-06T10:10:00",
          "2025-05-06T10:20:00",
          "2025-05-06T10:30:00",
          "2025-05-06T10:40:00",
          "2025-05-06T10:50:00",
          "2025-05-06T11:00:00",
          "2025-05-06T11:10:00",
          "2025-05-06T11:20:00",
          "2025-05-06T11:30:00",
          "2025-05-06T11:40:00",
          "2025-05-06T11:50:00",
          "2025-05-06T12:00:00",
          "2025-05-06T12:10:00",
          "2025-05-06T12:20:00",
          "2025-05-06T12:30:00",
          "2025-05-06T12:40:00",
          "2025-05-06T12:50:00",
          "2025-05-06T13:00:00",
          "2025-05-06T13:10:00",
          "2025-05-06T13:20:00",
          "2025-05-06T13:30:00",
          "2025-05-06T13:40:00",
          "2025-05-06T13:50:00",
          "2025-05-06T14:00:00",
          "2025-05-06T14:10:00",
          "2025-05-06T14:20:00",
          "2025-05-06T14:30:00",
          "2025-05-06T14:40:00",
          "2025-05-06T14:50:00",
          "2025-05-06T15:00:00",
          "2025-05-06T15:10:00",
          "2025-05-06T15:20:00",
          "2025-05-06T15:30:00",
          "2025-05-06T15:40:00",
          "2025-05-06T15:50:00",
          "2025-05-06T16:00:00",
          "2025-05-06T16:10:00",
          "2025-05-06T16:20:00",
          "2025-05-06T16:30:00",
          "2025-05-06T16:40:00",
          "2025-05-06T16:50:00",
          "2025-05-06T17:00:00",
          "2025-05-06T17:10:00",
          "2025-05-06T17:20:00",
          "2025-05-06T17:30:00",
          "2025-05-06T17:40:00",
          "2025-05-06T17:50:00",
          "2025-05-06T18:00:00",
          "2025-05-06T18:10:00",
          "2025-05-06T18:20:00",
          "2025-05-06T18:30:00",
          "2025-05-06T18:40:00",
          "2025-05-06T18:50:00",
          "2025-05-06T19:00:00",
          "2025-05-06T19:10:00",
          "2025-05-06T19:20:00",
          "2025-05-06T19:30:00",
          "2025-05-06T19:40:00",
          "2025-05-06T19:50:00",
          "2025-05-06T20:00:00",
          "2025-05-06T20:10:00",
          "2025-05-06T20:20:00",
          "2025-05-06T20:30:00",
          "2025-05-06T20:40:00",
          "2025-05-06T20:50:00",
          "2025-05-06T21:00:00",
          "2025-05-06T21:10:00",
          "2025-05-06T21:20:00",
          "2025-05-06T21:30:00",
          "2025-05-06T21:40:00",
          "2025-05-06T21:50:00",
          "2025-05-06T22:00:00",
          "2025-05-06T22:10:00",
          "2025-05-06T22:20:00",
          "2025-05-06T22:30:00",
          "2025-05-06T22:40:00",
          "2025-05-06T22:50:00",
          "2025-05-06T23:00:00",
          "2025-05-06T23:10:00",
          "2025-05-06T23:20:00",
          "2025-05-06T23:30:00",
          "2025-05-06T23:40:00",
          "2025-05-06T23:50:00",
          "2025-05-07T00:00:00",
          "2025-05-07T00:10:00",
          "2025-05-07T00:20:00",
          "2025-05-07T00:30:00",
          "2025-05-07T00:40:00",
          "2025-05-07T00:50:00",
          "2025-05-07T01:00:00",
          "2025-05-07T01:10:00",
          "2025-05-07T01:20:00",
          "2025-05-07T01:30:00",
          "2025-05-07T01:40:00",
          "2025-05-07T01:50:00",
          "2025-05-07T02:00:00",
          "2025-05-07T02:10:00",
          "2025-05-07T02:20:00",
          "2025-05-07T02:30:00",
          "2025-05-07T02:40:00",
          "2025-05-07T02:50:00",
          "2025-05-07T03:00:00",
          "2025-05-07T03:10:00",
          "2025-05-07T03:20:00",
          "2025-05-07T03:30:00",
          "2025-05-07T03:40:00",
          "2025-05-07T03:50:00",
          "2025-05-07T04:00:00",
          "2025-05-07T04:10:00",
          "2025-05-07T04:20:00",
          "2025-05-07T04:30:00",
          "2025-05-07T04:40:00",
          "2025-05-07T04:50:00",
          "2025-05-07T05:00:00",
          "2025-05-07T05:10:00",
          "2025-05-07T05:20:00",
          "2025-05-07T05:30:00",
          "2025-05-07T05:40:00",
          "2025-05-07T05:50:00",
          "2025-05-07T06:00:00",
          "2025-05-07T06:10:00",
          "2025-05-07T06:20:00",
          "2025-05-07T06:30:00",
          "2025-05-07T06:40:00",
          "2025-05-07T06:50:00",
          "2025-05-07T07:00:00",
          "2025-05-07T07:10:00",
          "2025-05-07T07:20:00",
          "2025-05-07T07:30:00",
          "2025-05-07T07:40:00",
          "2025-05-07T07:50:00",
          "2025-05-07T08:00:00",
          "2025-05-07T08:10:00",
          "2025-05-07T08:20:00",
          "2025-05-07T08:30:00",
          "2025-05-07T08:40:00",
          "2025-05-07T08:50:00",
          "2025-05-07T09:00:00",
          "2025-05-07T09:10:00",
          "2025-05-07T09:20:00",
          "2025-05-07T09:30:00",
          "2025-05-07T09:40:00",
          "2025-05-07T09:50:00",
          "2025-05-07T10:00:00",
          "2025-05-07T10:10:00",
          "2025-05-07T10:20:00",
          "2025-05-07T10:30:00",
          "2025-05-07T10:40:00",
          "2025-05-07T10:50:00",
          "2025-05-07T11:00:00",
          "2025-05-07T11:10:00",
          "2025-05-07T11:20:00",
          "2025-05-07T11:30:00",
          "2025-05-07T11:40:00",
          "2025-05-07T11:50:00",
          "2025-05-07T12:00:00",
          "2025-05-07T12:10:00",
          "2025-05-07T12:20:00",
          "2025-05-07T12:30:00",
          "2025-05-07T12:40:00",
          "2025-05-07T12:50:00",
          "2025-05-07T13:00:00",
          "2025-05-07T13:10:00",
          "2025-05-07T13:20:00",
          "2025-05-07T13:30:00",
          "2025-05-07T13:40:00",
          "2025-05-07T13:50:00",
          "2025-05-07T14:00:00",
          "2025-05-07T14:10:00",
          "2025-05-07T14:20:00",
          "2025-05-07T14:30:00",
          "2025-05-07T14:40:00",
          "2025-05-07T14:50:00",
          "2025-05-07T15:00:00",
          "2025-05-07T15:10:00",
          "2025-05-07T15:20:00",
          "2025-05-07T15:30:00",
          "2025-05-07T15:40:00",
          "2025-05-07T15:50:00",
          "2025-05-07T16:00:00",
          "2025-05-07T16:10:00",
          "2025-05-07T16:20:00",
          "2025-05-07T16:30:00",
          "2025-05-07T16:40:00",
          "2025-05-07T16:50:00",
          "2025-05-07T17:00:00",
          "2025-05-07T17:10:00",
          "2025-05-07T17:20:00",
          "2025-05-07T17:30:00",
          "2025-05-07T17:40:00",
          "2025-05-07T17:50:00",
          "2025-05-07T18:00:00",
          "2025-05-07T18:10:00",
          "2025-05-07T18:20:00",
          "2025-05-07T18:30:00",
          "2025-05-07T18:40:00",
          "2025-05-07T18:50:00",
          "2025-05-07T19:00:00",
          "2025-05-07T19:10:00",
          "2025-05-07T19:20:00",
          "2025-05-07T19:30:00",
          "2025-05-07T19:40:00",
          "2025-05-07T19:50:00",
          "2025-05-07T20:00:00",
          "2025-05-07T20:10:00",
          "2025-05-07T20:20:00",
          "2025-05-07T20:30:00",
          "2025-05-07T20:40:00",
          "2025-05-07T20:50:00",
          "2025-05-07T21:00:00",
          "2025-05-07T21:10:00",
          "2025-05-07T21:20:00",
          "2025-05-07T21:30:00",
          "2025-05-07T21:40:00",
          "2025-05-07T21:50:00",
          "2025-05-07T22:00:00",
          "2025-05-07T22:10:00",
          "2025-05-07T22:20:00",
          "2025-05-07T22:30:00",
          "2025-05-07T22:40:00",
          "2025-05-07T22:50:00",
          "2025-05-07T23:00:00",
          "2025-05-07T23:10:00",
          "2025-05-07T23:20:00",
          "2025-05-07T23:30:00",
          "2025-05-07T23:40:00",
          "2025-05-07T23:50:00",
          "2025-05-08T00:00:00",
          "2025-05-08T00:10:00",
          "2025-05-08T00:20:00",
          "2025-05-08T00:30:00",
          "2025-05-08T00:40:00",
          "2025-05-08T00:50:00",
          "2025-05-08T01:00:00",
          "2025-05-08T01:10:00",
          "2025-05-08T01:20:00",
          "2025-05-08T01:30:00",
          "2025-05-08T01:40:00",
          "2025-05-08T01:50:00",
          "2025-05-08T02:00:00",
          "2025-05-08T02:10:00",
          "2025-05-08T02:20:00",
          "2025-05-08T02:30:00",
          "2025-05-08T02:40:00",
          "2025-05-08T02:50:00",
          "2025-05-08T03:00:00",
          "2025-05-08T03:10:00",
          "2025-05-08T03:20:00",
          "2025-05-08T03:30:00",
          "2025-05-08T03:40:00",
          "2025-05-08T03:50:00",
          "2025-05-08T04:00:00",
          "2025-05-08T04:10:00",
          "2025-05-08T04:20:00",
          "2025-05-08T04:30:00",
          "2025-05-08T04:40:00",
          "2025-05-08T04:50:00",
          "2025-05-08T05:00:00",
          "2025-05-08T05:10:00",
          "2025-05-08T05:20:00",
          "2025-05-08T05:30:00",
          "2025-05-08T05:40:00",
          "2025-05-08T05:50:00",
          "2025-05-08T06:00:00",
          "2025-05-08T06:10:00",
          "2025-05-08T06:20:00",
          "2025-05-08T06:30:00",
          "2025-05-08T06:40:00",
          "2025-05-08T06:50:00",
          "2025-05-08T07:00:00",
          "2025-05-08T07:10:00",
          "2025-05-08T07:20:00",
          "2025-05-08T07:30:00",
          "2025-05-08T07:40:00",
          "2025-05-08T07:50:00",
          "2025-05-08T08:00:00",
          "2025-05-08T08:10:00",
          "2025-05-08T08:20:00",
          "2025-05-08T08:30:00",
          "2025-05-08T08:40:00",
          "2025-05-08T08:50:00",
          "2025-05-08T09:00:00",
          "2025-05-08T09:10:00",
          "2025-05-08T09:20:00",
          "2025-05-08T09:30:00",
          "2025-05-08T09:40:00",
          "2025-05-08T09:50:00",
          "2025-05-08T10:00:00",
          "2025-05-08T10:10:00",
          "2025-05-08T10:20:00",
          "2025-05-08T10:30:00",
          "2025-05-08T10:40:00",
          "2025-05-08T10:50:00",
          "2025-05-08T11:00:00",
          "2025-05-08T11:10:00",
          "2025-05-08T11:20:00",
          "2025-05-08T11:30:00",
          "2025-05-08T11:40:00",
          "2025-05-08T11:50:00",
          "2025-05-08T12:00:00",
          "2025-05-08T12:10:00",
          "2025-05-08T12:20:00",
          "2025-05-08T12:30:00",
          "2025-05-08T12:40:00",
          "2025-05-08T12:50:00",
          "2025-05-08T13:00:00",
          "2025-05-08T13:10:00",
          "2025-05-08T13:20:00",
          "2025-05-08T13:30:00",
          "2025-05-08T13:40:00",
          "2025-05-08T13:50:00",
          "2025-05-08T14:00:00",
          "2025-05-08T14:10:00",
          "2025-05-08T14:20:00",
          "2025-05-08T14:30:00",
          "2025-05-08T14:40:00",
          "2025-05-08T14:50:00",
          "2025-05-08T15:00:00",
          "2025-05-08T15:10:00",
          "2025-05-08T15:20:00",
          "2025-05-08T15:30:00",
          "2025-05-08T15:40:00",
          "2025-05-08T15:50:00",
          "2025-05-08T16:00:00",
          "2025-05-08T16:10:00",
          "2025-05-08T16:20:00",
          "2025-05-08T16:30:00",
          "2025-05-08T16:40:00",
          "2025-05-08T16:50:00",
          "2025-05-08T17:00:00",
          "2025-05-08T17:10:00",
          "2025-05-08T17:20:00",
          "2025-05-08T17:30:00",
          "2025-05-08T17:40:00",
          "2025-05-08T17:50:00",
          "2025-05-08T18:00:00",
          "2025-05-08T18:10:00",
          "2025-05-08T18:20:00",
          "2025-05-08T18:30:00",
          "2025-05-08T18:40:00",
          "2025-05-08T18:50:00",
          "2025-05-08T19:00:00",
          "2025-05-08T19:10:00",
          "2025-05-08T19:20:00",
          "2025-05-08T19:30:00",
          "2025-05-08T19:40:00",
          "2025-05-08T19:50:00",
          "2025-05-08T20:00:00",
          "2025-05-08T20:10:00",
          "2025-05-08T20:20:00",
          "2025-05-08T20:30:00",
          "2025-05-08T20:40:00",
          "2025-05-08T20:50:00",
          "2025-05-08T21:00:00",
          "2025-05-08T21:10:00",
          "2025-05-08T21:20:00",
          "2025-05-08T21:30:00",
          "2025-05-08T21:40:00",
          "2025-05-08T21:50:00",
          "2025-05-08T22:00:00",
          "2025-05-08T22:10:00",
          "2025-05-08T22:20:00",
          "2025-05-08T22:30:00",
          "2025-05-08T22:40:00",
          "2025-05-08T22:50:00",
          "2025-05-08T23:00:00",
          "2025-05-08T23:10:00",
          "2025-05-08T23:20:00",
          "2025-05-08T23:30:00",
          "2025-05-08T23:40:00",
          "2025-05-08T23:50:00",
          "2025-05-09T00:00:00",
          "2025-05-09T00:10:00",
          "2025-05-09T00:20:00",
          "2025-05-09T00:30:00",
          "2025-05-09T00:40:00",
          "2025-05-09T00:50:00",
          "2025-05-09T01:00:00",
          "2025-05-09T01:10:00",
          "2025-05-09T01:20:00",
          "2025-05-09T01:30:00",
          "2025-05-09T01:40:00",
          "2025-05-09T01:50:00",
          "2025-05-09T02:00:00",
          "2025-05-09T02:10:00",
          "2025-05-09T02:20:00",
          "2025-05-09T02:30:00",
          "2025-05-09T02:40:00",
          "2025-05-09T02:50:00",
          "2025-05-09T03:00:00",
          "2025-05-09T03:10:00",
          "2025-05-09T03:20:00",
          "2025-05-09T03:30:00",
          "2025-05-09T03:40:00",
          "2025-05-09T03:50:00",
          "2025-05-09T04:00:00",
          "2025-05-09T04:10:00",
          "2025-05-09T04:20:00",
          "2025-05-09T04:30:00",
          "2025-05-09T04:40:00",
          "2025-05-09T04:50:00",
          "2025-05-09T05:00:00",
          "2025-05-09T05:10:00",
          "2025-05-09T05:20:00",
          "2025-05-09T05:30:00",
          "2025-05-09T05:40:00",
          "2025-05-09T05:50:00",
          "2025-05-09T06:00:00",
          "2025-05-09T06:10:00",
          "2025-05-09T06:20:00",
          "2025-05-09T06:30:00",
          "2025-05-09T06:40:00",
          "2025-05-09T06:50:00",
          "2025-05-09T07:00:00",
          "2025-05-09T07:10:00",
          "2025-05-09T07:20:00",
          "2025-05-09T07:30:00",
          "2025-05-09T07:40:00",
          "2025-05-09T07:50:00",
          "2025-05-09T08:00:00",
          "2025-05-09T08:10:00",
          "2025-05-09T08:20:00",
          "2025-05-09T08:30:00",
          "2025-05-09T08:40:00",
          "2025-05-09T08:50:00",
          "2025-05-09T09:00:00",
          "2025-05-09T09:10:00",
          "2025-05-09T09:20:00",
          "2025-05-09T09:30:00",
          "2025-05-09T09:40:00",
          "2025-05-09T09:50:00",
          "2025-05-09T10:00:00",
          "2025-05-09T10:10:00",
          "2025-05-09T10:20:00",
          "2025-05-09T10:30:00",
          "2025-05-09T10:40:00",
          "2025-05-09T10:50:00",
          "2025-05-09T11:00:00",
          "2025-05-09T11:10:00",
          "2025-05-09T11:20:00",
          "2025-05-09T11:30:00",
          "2025-05-09T11:40:00",
          "2025-05-09T11:50:00",
          "2025-05-09T12:00:00",
          "2025-05-09T12:10:00",
          "2025-05-09T12:20:00",
          "2025-05-09T12:30:00",
          "2025-05-09T12:40:00",
          "2025-05-09T12:50:00",
          "2025-05-09T13:00:00",
          "2025-05-09T13:10:00",
          "2025-05-09T13:20:00",
          "2025-05-09T13:30:00",
          "2025-05-09T13:40:00",
          "2025-05-09T13:50:00",
          "2025-05-09T14:00:00",
          "2025-05-09T14:10:00",
          "2025-05-09T14:20:00",
          "2025-05-09T14:30:00",
          "2025-05-09T14:40:00",
          "2025-05-09T14:50:00",
          "2025-05-09T15:00:00",
          "2025-05-09T15:10:00",
          "2025-05-09T15:20:00",
          "2025-05-09T15:30:00",
          "2025-05-09T15:40:00",
          "2025-05-09T15:50:00",
          "2025-05-09T16:00:00",
          "2025-05-09T16:10:00",
          "2025-05-09T16:20:00",
          "2025-05-09T16:30:00",
          "2025-05-09T16:40:00",
          "2025-05-09T16:50:00",
          "2025-05-09T17:00:00",
          "2025-05-09T17:10:00",
          "2025-05-09T17:20:00",
          "2025-05-09T17:30:00",
          "2025-05-09T17:40:00",
          "2025-05-09T17:50:00",
          "2025-05-09T18:00:00",
          "2025-05-09T18:10:00",
          "2025-05-09T18:20:00",
          "2025-05-09T18:30:00",
          "2025-05-09T18:40:00",
          "2025-05-09T18:50:00",
          "2025-05-09T19:00:00",
          "2025-05-09T19:10:00",
          "2025-05-09T19:20:00",
          "2025-05-09T19:30:00",
          "2025-05-09T19:40:00",
          "2025-05-09T19:50:00",
          "2025-05-09T20:00:00",
          "2025-05-09T20:10:00",
          "2025-05-09T20:20:00",
          "2025-05-09T20:30:00",
          "2025-05-09T20:40:00",
          "2025-05-09T20:50:00",
          "2025-05-09T21:00:00",
          "2025-05-09T21:10:00",
          "2025-05-09T21:20:00",
          "2025-05-09T21:30:00",
          "2025-05-09T21:40:00",
          "2025-05-09T21:50:00",
          "2025-05-09T22:00:00",
          "2025-05-09T22:10:00",
          "2025-05-09T22:20:00",
          "2025-05-09T22:30:00",
          "2025-05-09T22:40:00",
          "2025-05-09T22:50:00",
          "2025-05-09T23:00:00",
          "2025-05-09T23:10:00",
          "2025-05-09T23:20:00",
          "2025-05-09T23:30:00",
          "2025-05-09T23:40:00",
          "2025-05-09T23:50:00",
          "2025-05-10T00:00:00",
          "2025-05-10T00:10:00",
          "2025-05-10T00:20:00",
          "2025-05-10T00:30:00",
          "2025-05-10T00:40:00",
          "2025-05-10T00:50:00",
          "2025-05-10T01:00:00",
          "2025-05-10T01:10:00",
          "2025-05-10T01:20:00",
          "2025-05-10T01:30:00",
          "2025-05-10T01:40:00",
          "2025-05-10T01:50:00",
          "2025-05-10T02:00:00",
          "2025-05-10T02:10:00",
          "2025-05-10T02:20:00",
          "2025-05-10T02:30:00",
          "2025-05-10T02:40:00",
          "2025-05-10T02:50:00",
          "2025-05-10T03:00:00",
          "2025-05-10T03:10:00",
          "2025-05-10T03:20:00",
          "2025-05-10T03:30:00",
          "2025-05-10T03:40:00",
          "2025-05-10T03:50:00",
          "2025-05-10T04:00:00",
          "2025-05-10T04:10:00",
          "2025-05-10T04:20:00",
          "2025-05-10T04:30:00",
          "2025-05-10T04:40:00",
          "2025-05-10T04:50:00",
          "2025-05-10T05:00:00",
          "2025-05-10T05:10:00",
          "2025-05-10T05:20:00",
          "2025-05-10T05:30:00",
          "2025-05-10T05:40:00",
          "2025-05-10T05:50:00",
          "2025-05-10T06:00:00",
          "2025-05-10T06:10:00",
          "2025-05-10T06:20:00",
          "2025-05-10T06:30:00",
          "2025-05-10T06:40:00",
          "2025-05-10T06:50:00",
          "2025-05-10T07:00:00",
          "2025-05-10T07:10:00",
          "2025-05-10T07:20:00",
          "2025-05-10T07:30:00",
          "2025-05-10T07:40:00",
          "2025-05-10T07:50:00",
          "2025-05-10T08:00:00",
          "2025-05-10T08:10:00",
          "2025-05-10T08:20:00",
          "2025-05-10T08:30:00",
          "2025-05-10T08:40:00",
          "2025-05-10T08:50:00",
          "2025-05-10T09:00:00",
          "2025-05-10T09:10:00",
          "2025-05-10T09:20:00",
          "2025-05-10T09:30:00",
          "2025-05-10T09:40:00",
          "2025-05-10T09:50:00",
          "2025-05-10T10:00:00",
          "2025-05-10T10:10:00",
          "2025-05-10T10:20:00",
          "2025-05-10T10:30:00",
          "2025-05-10T10:40:00",
          "2025-05-10T10:50:00",
          "2025-05-10T11:00:00",
          "2025-05-10T11:10:00",
          "2025-05-10T11:20:00",
          "2025-05-10T11:30:00",
          "2025-05-10T11:40:00",
          "2025-05-10T11:50:00",
          "2025-05-10T12:00:00",
          "2025-05-10T12:10:00",
          "2025-05-10T12:20:00",
          "2025-05-10T12:30:00",
          "2025-05-10T12:40:00",
          "2025-05-10T12:50:00",
          "2025-05-10T13:00:00",
          "2025-05-10T13:10:00",
          "2025-05-10T13:20:00",
          "2025-05-10T13:30:00",
          "2025-05-10T13:40:00",
          "2025-05-10T13:50:00",
          "2025-05-10T14:00:00",
          "2025-05-10T14:10:00",
          "2025-05-10T14:20:00",
          "2025-05-10T14:30:00",
          "2025-05-10T14:40:00",
          "2025-05-10T14:50:00",
          "2025-05-10T15:00:00",
          "2025-05-10T15:10:00",
          "2025-05-10T15:20:00",
          "2025-05-10T15:30:00",
          "2025-05-10T15:40:00",
          "2025-05-10T15:50:00",
          "2025-05-10T16:00:00",
          "2025-05-10T16:10:00",
          "2025-05-10T16:20:00",
          "2025-05-10T16:30:00",
          "2025-05-10T16:40:00",
          "2025-05-10T16:50:00",
          "2025-05-10T17:00:00",
          "2025-05-10T17:10:00",
          "2025-05-10T17:20:00",
          "2025-05-10T17:30:00",
          "2025-05-10T17:40:00",
          "2025-05-10T17:50:00",
          "2025-05-10T18:00:00",
          "2025-05-10T18:10:00",
          "2025-05-10T18:20:00",
          "2025-05-10T18:30:00",
          "2025-05-10T18:40:00",
          "2025-05-10T18:50:00",
          "2025-05-10T19:00:00",
          "2025-05-10T19:10:00",
          "2025-05-10T19:20:00",
          "2025-05-10T19:30:00",
          "2025-05-10T19:40:00",
          "2025-05-10T19:50:00",
          "2025-05-10T20:00:00",
          "2025-05-10T20:10:00",
          "2025-05-10T20:20:00",
          "2025-05-10T20:30:00",
          "2025-05-10T20:40:00",
          "2025-05-10T20:50:00",
          "2025-05-10T21:00:00",
          "2025-05-10T21:10:00",
          "2025-05-10T21:20:00",
          "2025-05-10T21:30:00",
          "2025-05-10T21:40:00",
          "2025-05-10T21:50:00",
          "2025-05-10T22:00:00",
          "2025-05-10T22:10:00",
          "2025-05-10T22:20:00",
          "2025-05-10T22:30:00",
          "2025-05-10T22:40:00",
          "2025-05-10T22:50:00",
          "2025-05-10T23:00:00",
          "2025-05-10T23:10:00",
          "2025-05-10T23:20:00",
          "2025-05-10T23:30:00",
          "2025-05-10T23:40:00",
          "2025-05-10T23:50:00",
          "2025-05-11T00:00:00",
          "2025-05-11T00:10:00",
          "2025-05-11T00:20:00",
          "2025-05-11T00:30:00",
          "2025-05-11T00:40:00",
          "2025-05-11T00:50:00",
          "2025-05-11T01:00:00",
          "2025-05-11T01:10:00",
          "2025-05-11T01:20:00",
          "2025-05-11T01:30:00",
          "2025-05-11T01:40:00",
          "2025-05-11T01:50:00",
          "2025-05-11T02:00:00",
          "2025-05-11T02:10:00",
          "2025-05-11T02:20:00",
          "2025-05-11T02:30:00",
          "2025-05-11T02:40:00",
          "2025-05-11T02:50:00",
          "2025-05-11T03:00:00",
          "2025-05-11T03:10:00",
          "2025-05-11T03:20:00",
          "2025-05-11T03:30:00",
          "2025-05-11T03:40:00",
          "2025-05-11T03:50:00",
          "2025-05-11T04:00:00",
          "2025-05-11T04:10:00",
          "2025-05-11T04:20:00",
          "2025-05-11T04:30:00",
          "2025-05-11T04:40:00",
          "2025-05-11T04:50:00",
          "2025-05-11T05:00:00",
          "2025-05-11T05:10:00",
          "2025-05-11T05:20:00",
          "2025-05-11T05:30:00",
          "2025-05-11T05:40:00",
          "2025-05-11T05:50:00",
          "2025-05-11T06:00:00",
          "2025-05-11T06:10:00",
          "2025-05-11T06:20:00",
          "2025-05-11T06:30:00",
          "2025-05-11T06:40:00",
          "2025-05-11T06:50:00",
          "2025-05-11T07:00:00",
          "2025-05-11T07:10:00",
          "2025-05-11T07:20:00",
          "2025-05-11T07:30:00",
          "2025-05-11T07:40:00",
          "2025-05-11T07:50:00",
          "2025-05-11T08:00:00",
          "2025-05-11T08:10:00",
          "2025-05-11T08:20:00",
          "2025-05-11T08:30:00",
          "2025-05-11T08:40:00",
          "2025-05-11T08:50:00",
          "2025-05-11T09:00:00",
          "2025-05-11T09:10:00",
          "2025-05-11T09:20:00",
          "2025-05-11T09:30:00",
          "2025-05-11T09:40:00",
          "2025-05-11T09:50:00",
          "2025-05-11T10:00:00",
          "2025-05-11T10:10:00",
          "2025-05-11T10:20:00",
          "2025-05-11T10:30:00",
          "2025-05-11T10:40:00",
          "2025-05-11T10:50:00",
          "2025-05-11T11:00:00",
          "2025-05-11T11:10:00",
          "2025-05-11T11:20:00",
          "2025-05-11T11:30:00",
          "2025-05-11T11:40:00",
          "2025-05-11T11:50:00",
          "2025-05-11T12:00:00",
          "2025-05-11T12:10:00",
          "2025-05-11T12:20:00",
          "2025-05-11T12:30:00",
          "2025-05-11T12:40:00",
          "2025-05-11T12:50:00",
          "2025-05-11T13:00:00",
          "2025-05-11T13:10:00",
          "2025-05-11T13:20:00",
          "2025-05-11T13:30:00",
          "2025-05-11T13:40:00",
          "2025-05-11T13:50:00",
          "2025-05-11T14:00:00",
          "2025-05-11T14:10:00",
          "2025-05-11T14:20:00",
          "2025-05-11T14:30:00",
          "2025-05-11T14:40:00",
          "2025-05-11T14:50:00",
          "2025-05-11T15:00:00",
          "2025-05-11T15:10:00",
          "2025-05-11T15:20:00",
          "2025-05-11T15:30:00",
          "2025-05-11T15:40:00",
          "2025-05-11T15:50:00",
          "2025-05-11T16:00:00",
          "2025-05-11T16:10:00",
          "2025-05-11T16:20:00",
          "2025-05-11T16:30:00",
          "2025-05-11T16:40:00",
          "2025-05-11T16:50:00",
          "2025-05-11T17:00:00",
          "2025-05-11T17:10:00",
          "2025-05-11T17:20:00",
          "2025-05-11T17:30:00",
          "2025-05-11T17:40:00",
          "2025-05-11T17:50:00",
          "2025-05-11T18:00:00",
          "2025-05-11T18:10:00",
          "2025-05-11T18:20:00",
          "2025-05-11T18:30:00",
          "2025-05-11T18:40:00",
          "2025-05-11T18:50:00",
          "2025-05-11T19:00:00",
          "2025-05-11T19:10:00",
          "2025-05-11T19:20:00",
          "2025-05-11T19:30:00",
          "2025-05-11T19:40:00",
          "2025-05-11T19:50:00",
          "2025-05-11T20:00:00",
          "2025-05-11T20:10:00",
          "2025-05-11T20:20:00",
          "2025-05-11T20:30:00",
          "2025-05-11T20:40:00",
          "2025-05-11T20:50:00",
          "2025-05-11T21:00:00",
          "2025-05-11T21:10:00",
          "2025-05-11T21:20:00",
          "2025-05-11T21:30:00",
          "2025-05-11T21:40:00",
          "2025-05-11T21:50:00",
          "2025-05-11T22:00:00",
          "2025-05-11T22:10:00",
          "2025-05-11T22:20:00",
          "2025-05-11T22:30:00",
          "2025-05-11T22:40:00",
          "2025-05-11T22:50:00",
          "2025-05-11T23:00:00",
          "2025-05-11T23:10:00",
          "2025-05-11T23:20:00",
          "2025-05-11T23:30:00",
          "2025-05-11T23:40:00",
          "2025-05-11T23:50:00",
          "2025-05-12T00:00:00",
          "2025-05-12T00:10:00",
          "2025-05-12T00:20:00",
          "2025-05-12T00:30:00",
          "2025-05-12T00:40:00",
          "2025-05-12T00:50:00",
          "2025-05-12T01:00:00",
          "2025-05-12T01:10:00",
          "2025-05-12T01:20:00",
          "2025-05-12T01:30:00",
          "2025-05-12T01:40:00",
          "2025-05-12T01:50:00",
          "2025-05-12T02:00:00",
          "2025-05-12T02:10:00",
          "2025-05-12T02:20:00",
          "2025-05-12T02:30:00",
          "2025-05-12T02:40:00",
          "2025-05-12T02:50:00",
          "2025-05-12T03:00:00",
          "2025-05-12T03:10:00",
          "2025-05-12T03:20:00",
          "2025-05-12T03:30:00",
          "2025-05-12T03:40:00",
          "2025-05-12T03:50:00",
          "2025-05-12T04:00:00",
          "2025-05-12T04:10:00",
          "2025-05-12T04:20:00",
          "2025-05-12T04:30:00",
          "2025-05-12T04:40:00",
          "2025-05-12T04:50:00",
          "2025-05-12T05:00:00",
          "2025-05-12T05:10:00",
          "2025-05-12T05:20:00",
          "2025-05-12T05:30:00",
          "2025-05-12T05:40:00",
          "2025-05-12T05:50:00",
          "2025-05-12T06:00:00",
          "2025-05-12T06:10:00",
          "2025-05-12T06:20:00",
          "2025-05-12T06:30:00",
          "2025-05-12T06:40:00",
          "2025-05-12T06:50:00",
          "2025-05-12T07:00:00",
          "2025-05-12T07:10:00",
          "2025-05-12T07:20:00",
          "2025-05-12T07:30:00",
          "2025-05-12T07:40:00",
          "2025-05-12T07:50:00",
          "2025-05-12T08:00:00",
          "2025-05-12T08:10:00",
          "2025-05-12T08:20:00",
          "2025-05-12T08:30:00",
          "2025-05-12T08:40:00",
          "2025-05-12T08:50:00",
          "2025-05-12T09:00:00",
          "2025-05-12T09:10:00",
          "2025-05-12T09:20:00",
          "2025-05-12T09:30:00",
          "2025-05-12T09:40:00",
          "2025-05-12T09:50:00",
          "2025-05-12T10:00:00",
          "2025-05-12T10:10:00",
          "2025-05-12T10:20:00",
          "2025-05-12T10:30:00",
          "2025-05-12T10:40:00",
          "2025-05-12T10:50:00",
          "2025-05-12T11:00:00",
          "2025-05-12T11:10:00",
          "2025-05-12T11:20:00",
          "2025-05-12T11:30:00",
          "2025-05-12T11:40:00",
          "2025-05-12T11:50:00",
          "2025-05-12T12:00:00",
          "2025-05-12T12:10:00",
          "2025-05-12T12:20:00",
          "2025-05-12T12:30:00",
          "2025-05-12T12:40:00",
          "2025-05-12T12:50:00",
          "2025-05-12T13:00:00",
          "2025-05-12T13:10:00",
          "2025-05-12T13:20:00",
          "2025-05-12T13:30:00",
          "2025-05-12T13:40:00",
          "2025-05-12T13:50:00",
          "2025-05-12T14:00:00",
          "2025-05-12T14:10:00",
          "2025-05-12T14:20:00",
          "2025-05-12T14:30:00",
          "2025-05-12T14:40:00",
          "2025-05-12T14:50:00",
          "2025-05-12T15:00:00",
          "2025-05-12T15:10:00",
          "2025-05-12T15:20:00",
          "2025-05-12T15:30:00",
          "2025-05-12T15:40:00",
          "2025-05-12T15:50:00",
          "2025-05-12T16:00:00",
          "2025-05-12T16:10:00",
          "2025-05-12T16:20:00",
          "2025-05-12T16:30:00",
          "2025-05-12T16:40:00",
          "2025-05-12T16:50:00",
          "2025-05-12T17:00:00",
          "2025-05-12T17:10:00",
          "2025-05-12T17:20:00",
          "2025-05-12T17:30:00",
          "2025-05-12T17:40:00",
          "2025-05-12T17:50:00",
          "2025-05-12T18:00:00",
          "2025-05-12T18:10:00",
          "2025-05-12T18:20:00",
          "2025-05-12T18:30:00",
          "2025-05-12T18:40:00",
          "2025-05-12T18:50:00",
          "2025-05-12T19:00:00",
          "2025-05-12T19:10:00",
          "2025-05-12T19:20:00",
          "2025-05-12T19:30:00",
          "2025-05-12T19:40:00",
          "2025-05-12T19:50:00",
          "2025-05-12T20:00:00",
          "2025-05-12T20:10:00",
          "2025-05-12T20:20:00",
          "2025-05-12T20:30:00",
          "2025-05-12T20:40:00",
          "2025-05-12T20:50:00",
          "2025-05-12T21:00:00",
          "2025-05-12T21:10:00",
          "2025-05-12T21:20:00",
          "2025-05-12T21:30:00",
          "2025-05-12T21:40:00",
          "2025-05-12T21:50:00",
          "2025-05-12T22:00:00",
          "2025-05-12T22:10:00",
          "2025-05-12T22:20:00",
          "2025-05-12T22:30:00",
          "2025-05-12T22:40:00",
          "2025-05-12T22:50:00",
          "2025-05-12T23:00:00",
          "2025-05-12T23:10:00",
          "2025-05-12T23:20:00",
          "2025-05-12T23:30:00",
          "2025-05-12T23:40:00",
          "2025-05-12T23:50:00",
          "2025-05-13T00:00:00",
          "2025-05-13T00:10:00",
          "2025-05-13T00:20:00",
          "2025-05-13T00:30:00",
          "2025-05-13T00:40:00",
          "2025-05-13T00:50:00",
          "2025-05-13T01:00:00",
          "2025-05-13T01:10:00",
          "2025-05-13T01:20:00",
          "2025-05-13T01:30:00",
          "2025-05-13T01:40:00",
          "2025-05-13T01:50:00",
          "2025-05-13T02:00:00",
          "2025-05-13T02:10:00",
          "2025-05-13T02:20:00",
          "2025-05-13T02:30:00",
          "2025-05-13T02:40:00",
          "2025-05-13T02:50:00",
          "2025-05-13T03:00:00",
          "2025-05-13T03:10:00",
          "2025-05-13T03:20:00",
          "2025-05-13T03:30:00",
          "2025-05-13T03:40:00",
          "2025-05-13T03:50:00",
          "2025-05-13T04:00:00",
          "2025-05-13T04:10:00",
          "2025-05-13T04:20:00",
          "2025-05-13T04:30:00",
          "2025-05-13T04:40:00",
          "2025-05-13T04:50:00",
          "2025-05-13T05:00:00",
          "2025-05-13T05:10:00",
          "2025-05-13T05:20:00",
          "2025-05-13T05:30:00",
          "2025-05-13T05:40:00",
          "2025-05-13T05:50:00",
          "2025-05-13T06:00:00",
          "2025-05-13T06:10:00",
          "2025-05-13T06:20:00",
          "2025-05-13T06:30:00",
          "2025-05-13T06:40:00",
          "2025-05-13T06:50:00",
          "2025-05-13T07:00:00",
          "2025-05-13T07:10:00",
          "2025-05-13T07:20:00",
          "2025-05-13T07:30:00",
          "2025-05-13T07:40:00",
          "2025-05-13T07:50:00",
          "2025-05-13T08:00:00",
          "2025-05-13T08:10:00",
          "2025-05-13T08:20:00",
          "2025-05-13T08:30:00",
          "2025-05-13T08:40:00",
          "2025-05-13T08:50:00",
          "2025-05-13T09:00:00",
          "2025-05-13T09:10:00",
          "2025-05-13T09:20:00",
          "2025-05-13T09:30:00",
          "2025-05-13T09:40:00",
          "2025-05-13T09:50:00",
          "2025-05-13T10:00:00",
          "2025-05-13T10:10:00",
          "2025-05-13T10:20:00",
          "2025-05-13T10:30:00",
          "2025-05-13T10:40:00",
          "2025-05-13T10:50:00",
          "2025-05-13T11:00:00",
          "2025-05-13T11:10:00",
          "2025-05-13T11:20:00",
          "2025-05-13T11:30:00",
          "2025-05-13T11:40:00",
          "2025-05-13T11:50:00",
          "2025-05-13T12:00:00",
          "2025-05-13T12:10:00",
          "2025-05-13T12:20:00",
          "2025-05-13T12:30:00",
          "2025-05-13T12:40:00",
          "2025-05-13T12:50:00",
          "2025-05-13T13:00:00",
          "2025-05-13T13:10:00",
          "2025-05-13T13:20:00",
          "2025-05-13T13:30:00",
          "2025-05-13T13:40:00",
          "2025-05-13T13:50:00",
          "2025-05-13T14:00:00",
          "2025-05-13T14:10:00",
          "2025-05-13T14:20:00",
          "2025-05-13T14:30:00",
          "2025-05-13T14:40:00",
          "2025-05-13T14:50:00",
          "2025-05-13T15:00:00",
          "2025-05-13T15:10:00",
          "2025-05-13T15:20:00",
          "2025-05-13T15:30:00",
          "2025-05-13T15:40:00",
          "2025-05-13T15:50:00",
          "2025-05-13T16:00:00",
          "2025-05-13T16:10:00",
          "2025-05-13T16:20:00",
          "2025-05-13T16:30:00",
          "2025-05-13T16:40:00",
          "2025-05-13T16:50:00",
          "2025-05-13T17:00:00",
          "2025-05-13T17:10:00",
          "2025-05-13T17:20:00",
          "2025-05-13T17:30:00",
          "2025-05-13T17:40:00",
          "2025-05-13T17:50:00",
          "2025-05-13T18:00:00",
          "2025-05-13T18:10:00",
          "2025-05-13T18:20:00",
          "2025-05-13T18:30:00",
          "2025-05-13T18:40:00",
          "2025-05-13T18:50:00",
          "2025-05-13T19:00:00",
          "2025-05-13T19:10:00",
          "2025-05-13T19:20:00",
          "2025-05-13T19:30:00",
          "2025-05-13T19:40:00",
          "2025-05-13T19:50:00",
          "2025-05-13T20:00:00",
          "2025-05-13T20:10:00",
          "2025-05-13T20:20:00",
          "2025-05-13T20:30:00",
          "2025-05-13T20:40:00",
          "2025-05-13T20:50:00",
          "2025-05-13T21:00:00",
          "2025-05-13T21:10:00",
          "2025-05-13T21:20:00",
          "2025-05-13T21:30:00",
          "2025-05-13T21:40:00",
          "2025-05-13T21:50:00",
          "2025-05-13T22:00:00",
          "2025-05-13T22:10:00",
          "2025-05-13T22:20:00",
          "2025-05-13T22:30:00",
          "2025-05-13T22:40:00",
          "2025-05-13T22:50:00",
          "2025-05-13T23:00:00",
          "2025-05-13T23:10:00",
          "2025-05-13T23:20:00",
          "2025-05-13T23:30:00",
          "2025-05-13T23:40:00",
          "2025-05-13T23:50:00",
          "2025-05-14T00:00:00",
          "2025-05-14T00:10:00",
          "2025-05-14T00:20:00",
          "2025-05-14T00:30:00",
          "2025-05-14T00:40:00",
          "2025-05-14T00:50:00",
          "2025-05-14T01:00:00",
          "2025-05-14T01:10:00",
          "2025-05-14T01:20:00",
          "2025-05-14T01:30:00",
          "2025-05-14T01:40:00",
          "2025-05-14T01:50:00",
          "2025-05-14T02:00:00",
          "2025-05-14T02:10:00",
          "2025-05-14T02:20:00",
          "2025-05-14T02:30:00",
          "2025-05-14T02:40:00",
          "2025-05-14T02:50:00",
          "2025-05-14T03:00:00",
          "2025-05-14T03:10:00",
          "2025-05-14T03:20:00",
          "2025-05-14T03:30:00",
          "2025-05-14T03:40:00",
          "2025-05-14T03:50:00",
          "2025-05-14T04:00:00",
          "2025-05-14T04:10:00",
          "2025-05-14T04:20:00",
          "2025-05-14T04:30:00",
          "2025-05-14T04:40:00",
          "2025-05-14T04:50:00",
          "2025-05-14T05:00:00",
          "2025-05-14T05:10:00",
          "2025-05-14T05:20:00",
          "2025-05-14T05:30:00",
          "2025-05-14T05:40:00",
          "2025-05-14T05:50:00",
          "2025-05-14T06:00:00",
          "2025-05-14T06:10:00",
          "2025-05-14T06:20:00",
          "2025-05-14T06:30:00",
          "2025-05-14T06:40:00",
          "2025-05-14T06:50:00",
          "2025-05-14T07:00:00",
          "2025-05-14T07:10:00",
          "2025-05-14T07:20:00",
          "2025-05-14T07:30:00",
          "2025-05-14T07:40:00",
          "2025-05-14T07:50:00",
          "2025-05-14T08:00:00",
          "2025-05-14T08:10:00",
          "2025-05-14T08:20:00",
          "2025-05-14T08:30:00",
          "2025-05-14T08:40:00",
          "2025-05-14T08:50:00",
          "2025-05-14T09:00:00",
          "2025-05-14T09:10:00",
          "2025-05-14T09:20:00",
          "2025-05-14T09:30:00",
          "2025-05-14T09:40:00",
          "2025-05-14T09:50:00",
          "2025-05-14T10:00:00",
          "2025-05-14T10:10:00",
          "2025-05-14T10:20:00",
          "2025-05-14T10:30:00",
          "2025-05-14T10:40:00",
          "2025-05-14T10:50:00",
          "2025-05-14T11:00:00",
          "2025-05-14T11:10:00",
          "2025-05-14T11:20:00",
          "2025-05-14T11:30:00",
          "2025-05-14T11:40:00",
          "2025-05-14T11:50:00",
          "2025-05-14T12:00:00",
          "2025-05-14T12:10:00",
          "2025-05-14T12:20:00",
          "2025-05-14T12:30:00",
          "2025-05-14T12:40:00",
          "2025-05-14T12:50:00",
          "2025-05-14T13:00:00",
          "2025-05-14T13:10:00",
          "2025-05-14T13:20:00",
          "2025-05-14T13:30:00",
          "2025-05-14T13:40:00",
          "2025-05-14T13:50:00",
          "2025-05-14T14:00:00",
          "2025-05-14T14:10:00",
          "2025-05-14T14:20:00",
          "2025-05-14T14:30:00",
          "2025-05-14T14:40:00",
          "2025-05-14T14:50:00",
          "2025-05-14T15:00:00",
          "2025-05-14T15:10:00",
          "2025-05-14T15:20:00",
          "2025-05-14T15:30:00",
          "2025-05-14T15:40:00",
          "2025-05-14T15:50:00",
          "2025-05-14T16:00:00",
          "2025-05-14T16:10:00",
          "2025-05-14T16:20:00",
          "2025-05-14T16:30:00",
          "2025-05-14T16:40:00",
          "2025-05-14T16:50:00",
          "2025-05-14T17:00:00",
          "2025-05-14T17:10:00",
          "2025-05-14T17:20:00",
          "2025-05-14T17:30:00",
          "2025-05-14T17:40:00",
          "2025-05-14T17:50:00",
          "2025-05-14T18:00:00",
          "2025-05-14T18:10:00",
          "2025-05-14T18:20:00",
          "2025-05-14T18:30:00",
          "2025-05-14T18:40:00",
          "2025-05-14T18:50:00",
          "2025-05-14T19:00:00",
          "2025-05-14T19:10:00",
          "2025-05-14T19:20:00",
          "2025-05-14T19:30:00",
          "2025-05-14T19:40:00",
          "2025-05-14T19:50:00",
          "2025-05-14T20:00:00",
          "2025-05-14T20:10:00",
          "2025-05-14T20:20:00",
          "2025-05-14T20:30:00",
          "2025-05-14T20:40:00",
          "2025-05-14T20:50:00",
          "2025-05-14T21:00:00",
          "2025-05-14T21:10:00",
          "2025-05-14T21:20:00",
          "2025-05-14T21:30:00",
          "2025-05-14T21:40:00",
          "2025-05-14T21:50:00",
          "2025-05-14T22:00:00",
          "2025-05-14T22:10:00",
          "2025-05-14T22:20:00",
          "2025-05-14T22:30:00",
          "2025-05-14T22:40:00",
          "2025-05-14T22:50:00",
          "2025-05-14T23:00:00",
          "2025-05-14T23:10:00",
          "2025-05-14T23:20:00",
          "2025-05-14T23:30:00",
          "2025-05-14T23:40:00",
          "2025-05-14T23:50:00",
          "2025-05-15T00:00:00"
         ],
         "xaxis": "x",
         "y": {
          "bdata": "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",
          "dtype": "f8"
         },
         "yaxis": "y"
        }
       ],
       "layout": {
        "font": {
         "family": "Arial",
         "size": 12
        },
        "legend": {
         "tracegroupgap": 0
        },
        "template": {
         "data": {
          "bar": [
           {
            "error_x": {
             "color": "#2a3f5f"
            },
            "error_y": {
             "color": "#2a3f5f"
            },
            "marker": {
             "line": {
              "color": "#E5ECF6",
              "width": 0.5
             },
             "pattern": {
              "fillmode": "overlay",
              "size": 10,
              "solidity": 0.2
             }
            },
            "type": "bar"
           }
          ],
          "barpolar": [
           {
            "marker": {
             "line": {
              "color": "#E5ECF6",
              "width": 0.5
             },
             "pattern": {
              "fillmode": "overlay",
              "size": 10,
              "solidity": 0.2
             }
            },
            "type": "barpolar"
           }
          ],
          "carpet": [
           {
            "aaxis": {
             "endlinecolor": "#2a3f5f",
             "gridcolor": "white",
             "linecolor": "white",
             "minorgridcolor": "white",
             "startlinecolor": "#2a3f5f"
            },
            "baxis": {
             "endlinecolor": "#2a3f5f",
             "gridcolor": "white",
             "linecolor": "white",
             "minorgridcolor": "white",
             "startlinecolor": "#2a3f5f"
            },
            "type": "carpet"
           }
          ],
          "choropleth": [
           {
            "colorbar": {
             "outlinewidth": 0,
             "ticks": ""
            },
            "type": "choropleth"
           }
          ],
          "contour": [
           {
            "colorbar": {
             "outlinewidth": 0,
             "ticks": ""
            },
            "colorscale": [
             [
              0,
              "#0d0887"
             ],
             [
              0.1111111111111111,
              "#46039f"
             ],
             [
              0.2222222222222222,
              "#7201a8"
             ],
             [
              0.3333333333333333,
              "#9c179e"
             ],
             [
              0.4444444444444444,
              "#bd3786"
             ],
             [
              0.5555555555555556,
              "#d8576b"
             ],
             [
              0.6666666666666666,
              "#ed7953"
             ],
             [
              0.7777777777777778,
              "#fb9f3a"
             ],
             [
              0.8888888888888888,
              "#fdca26"
             ],
             [
              1,
              "#f0f921"
             ]
            ],
            "type": "contour"
           }
          ],
          "contourcarpet": [
           {
            "colorbar": {
             "outlinewidth": 0,
             "ticks": ""
            },
            "type": "contourcarpet"
           }
          ],
          "heatmap": [
           {
            "colorbar": {
             "outlinewidth": 0,
             "ticks": ""
            },
            "colorscale": [
             [
              0,
              "#0d0887"
             ],
             [
              0.1111111111111111,
              "#46039f"
             ],
             [
              0.2222222222222222,
              "#7201a8"
             ],
             [
              0.3333333333333333,
              "#9c179e"
             ],
             [
              0.4444444444444444,
              "#bd3786"
             ],
             [
              0.5555555555555556,
              "#d8576b"
             ],
             [
              0.6666666666666666,
              "#ed7953"
             ],
             [
              0.7777777777777778,
              "#fb9f3a"
             ],
             [
              0.8888888888888888,
              "#fdca26"
             ],
             [
              1,
              "#f0f921"
             ]
            ],
            "type": "heatmap"
           }
          ],
          "histogram": [
           {
            "marker": {
             "pattern": {
              "fillmode": "overlay",
              "size": 10,
              "solidity": 0.2
             }
            },
            "type": "histogram"
           }
          ],
          "histogram2d": [
           {
            "colorbar": {
             "outlinewidth": 0,
             "ticks": ""
            },
            "colorscale": [
             [
              0,
              "#0d0887"
             ],
             [
              0.1111111111111111,
              "#46039f"
             ],
             [
              0.2222222222222222,
              "#7201a8"
             ],
             [
              0.3333333333333333,
              "#9c179e"
             ],
             [
              0.4444444444444444,
              "#bd3786"
             ],
             [
              0.5555555555555556,
              "#d8576b"
             ],
             [
              0.6666666666666666,
              "#ed7953"
             ],
             [
              0.7777777777777778,
              "#fb9f3a"
             ],
             [
              0.8888888888888888,
              "#fdca26"
             ],
             [
              1,
              "#f0f921"
             ]
            ],
            "type": "histogram2d"
           }
          ],
          "histogram2dcontour": [
           {
            "colorbar": {
             "outlinewidth": 0,
             "ticks": ""
            },
            "colorscale": [
             [
              0,
              "#0d0887"
             ],
             [
              0.1111111111111111,
              "#46039f"
             ],
             [
              0.2222222222222222,
              "#7201a8"
             ],
             [
              0.3333333333333333,
              "#9c179e"
             ],
             [
              0.4444444444444444,
              "#bd3786"
             ],
             [
              0.5555555555555556,
              "#d8576b"
             ],
             [
              0.6666666666666666,
              "#ed7953"
             ],
             [
              0.7777777777777778,
              "#fb9f3a"
             ],
             [
              0.8888888888888888,
              "#fdca26"
             ],
             [
              1,
              "#f0f921"
             ]
            ],
            "type": "histogram2dcontour"
           }
          ],
          "mesh3d": [
           {
            "colorbar": {
             "outlinewidth": 0,
             "ticks": ""
            },
            "type": "mesh3d"
           }
          ],
          "parcoords": [
           {
            "line": {
             "colorbar": {
              "outlinewidth": 0,
              "ticks": ""
             }
            },
            "type": "parcoords"
           }
          ],
          "pie": [
           {
            "automargin": true,
            "type": "pie"
           }
          ],
          "scatter": [
           {
            "fillpattern": {
             "fillmode": "overlay",
             "size": 10,
             "solidity": 0.2
            },
            "type": "scatter"
           }
          ],
          "scatter3d": [
           {
            "line": {
             "colorbar": {
              "outlinewidth": 0,
              "ticks": ""
             }
            },
            "marker": {
             "colorbar": {
              "outlinewidth": 0,
              "ticks": ""
             }
            },
            "type": "scatter3d"
           }
          ],
          "scattercarpet": [
           {
            "marker": {
             "colorbar": {
              "outlinewidth": 0,
              "ticks": ""
             }
            },
            "type": "scattercarpet"
           }
          ],
          "scattergeo": [
           {
            "marker": {
             "colorbar": {
              "outlinewidth": 0,
              "ticks": ""
             }
            },
            "type": "scattergeo"
           }
          ],
          "scattergl": [
           {
            "marker": {
             "colorbar": {
              "outlinewidth": 0,
              "ticks": ""
             }
            },
            "type": "scattergl"
           }
          ],
          "scattermap": [
           {
            "marker": {
             "colorbar": {
              "outlinewidth": 0,
              "ticks": ""
             }
            },
            "type": "scattermap"
           }
          ],
          "scattermapbox": [
           {
            "marker": {
             "colorbar": {
              "outlinewidth": 0,
              "ticks": ""
             }
            },
            "type": "scattermapbox"
           }
          ],
          "scatterpolar": [
           {
            "marker": {
             "colorbar": {
              "outlinewidth": 0,
              "ticks": ""
             }
            },
            "type": "scatterpolar"
           }
          ],
          "scatterpolargl": [
           {
            "marker": {
             "colorbar": {
              "outlinewidth": 0,
              "ticks": ""
             }
            },
            "type": "scatterpolargl"
           }
          ],
          "scatterternary": [
           {
            "marker": {
             "colorbar": {
              "outlinewidth": 0,
              "ticks": ""
             }
            },
            "type": "scatterternary"
           }
          ],
          "surface": [
           {
            "colorbar": {
             "outlinewidth": 0,
             "ticks": ""
            },
            "colorscale": [
             [
              0,
              "#0d0887"
             ],
             [
              0.1111111111111111,
              "#46039f"
             ],
             [
              0.2222222222222222,
              "#7201a8"
             ],
             [
              0.3333333333333333,
              "#9c179e"
             ],
             [
              0.4444444444444444,
              "#bd3786"
             ],
             [
              0.5555555555555556,
              "#d8576b"
             ],
             [
              0.6666666666666666,
              "#ed7953"
             ],
             [
              0.7777777777777778,
              "#fb9f3a"
             ],
             [
              0.8888888888888888,
              "#fdca26"
             ],
             [
              1,
              "#f0f921"
             ]
            ],
            "type": "surface"
           }
          ],
          "table": [
           {
            "cells": {
             "fill": {
              "color": "#EBF0F8"
             },
             "line": {
              "color": "white"
             }
            },
            "header": {
             "fill": {
              "color": "#C8D4E3"
             },
             "line": {
              "color": "white"
             }
            },
            "type": "table"
           }
          ]
         },
         "layout": {
          "annotationdefaults": {
           "arrowcolor": "#2a3f5f",
           "arrowhead": 0,
           "arrowwidth": 1
          },
          "autotypenumbers": "strict",
          "coloraxis": {
           "colorbar": {
            "outlinewidth": 0,
            "ticks": ""
           }
          },
          "colorscale": {
           "diverging": [
            [
             0,
             "#8e0152"
            ],
            [
             0.1,
             "#c51b7d"
            ],
            [
             0.2,
             "#de77ae"
            ],
            [
             0.3,
             "#f1b6da"
            ],
            [
             0.4,
             "#fde0ef"
            ],
            [
             0.5,
             "#f7f7f7"
            ],
            [
             0.6,
             "#e6f5d0"
            ],
            [
             0.7,
             "#b8e186"
            ],
            [
             0.8,
             "#7fbc41"
            ],
            [
             0.9,
             "#4d9221"
            ],
            [
             1,
             "#276419"
            ]
           ],
           "sequential": [
            [
             0,
             "#0d0887"
            ],
            [
             0.1111111111111111,
             "#46039f"
            ],
            [
             0.2222222222222222,
             "#7201a8"
            ],
            [
             0.3333333333333333,
             "#9c179e"
            ],
            [
             0.4444444444444444,
             "#bd3786"
            ],
            [
             0.5555555555555556,
             "#d8576b"
            ],
            [
             0.6666666666666666,
             "#ed7953"
            ],
            [
             0.7777777777777778,
             "#fb9f3a"
            ],
            [
             0.8888888888888888,
             "#fdca26"
            ],
            [
             1,
             "#f0f921"
            ]
           ],
           "sequentialminus": [
            [
             0,
             "#0d0887"
            ],
            [
             0.1111111111111111,
             "#46039f"
            ],
            [
             0.2222222222222222,
             "#7201a8"
            ],
            [
             0.3333333333333333,
             "#9c179e"
            ],
            [
             0.4444444444444444,
             "#bd3786"
            ],
            [
             0.5555555555555556,
             "#d8576b"
            ],
            [
             0.6666666666666666,
             "#ed7953"
            ],
            [
             0.7777777777777778,
             "#fb9f3a"
            ],
            [
             0.8888888888888888,
             "#fdca26"
            ],
            [
             1,
             "#f0f921"
            ]
           ]
          },
          "colorway": [
           "#636efa",
           "#EF553B",
           "#00cc96",
           "#ab63fa",
           "#FFA15A",
           "#19d3f3",
           "#FF6692",
           "#B6E880",
           "#FF97FF",
           "#FECB52"
          ],
          "font": {
           "color": "#2a3f5f"
          },
          "geo": {
           "bgcolor": "white",
           "lakecolor": "white",
           "landcolor": "#E5ECF6",
           "showlakes": true,
           "showland": true,
           "subunitcolor": "white"
          },
          "hoverlabel": {
           "align": "left"
          },
          "hovermode": "closest",
          "mapbox": {
           "style": "light"
          },
          "paper_bgcolor": "white",
          "plot_bgcolor": "#E5ECF6",
          "polar": {
           "angularaxis": {
            "gridcolor": "white",
            "linecolor": "white",
            "ticks": ""
           },
           "bgcolor": "#E5ECF6",
           "radialaxis": {
            "gridcolor": "white",
            "linecolor": "white",
            "ticks": ""
           }
          },
          "scene": {
           "xaxis": {
            "backgroundcolor": "#E5ECF6",
            "gridcolor": "white",
            "gridwidth": 2,
            "linecolor": "white",
            "showbackground": true,
            "ticks": "",
            "zerolinecolor": "white"
           },
           "yaxis": {
            "backgroundcolor": "#E5ECF6",
            "gridcolor": "white",
            "gridwidth": 2,
            "linecolor": "white",
            "showbackground": true,
            "ticks": "",
            "zerolinecolor": "white"
           },
           "zaxis": {
            "backgroundcolor": "#E5ECF6",
            "gridcolor": "white",
            "gridwidth": 2,
            "linecolor": "white",
            "showbackground": true,
            "ticks": "",
            "zerolinecolor": "white"
           }
          },
          "shapedefaults": {
           "line": {
            "color": "#2a3f5f"
           }
          },
          "ternary": {
           "aaxis": {
            "gridcolor": "white",
            "linecolor": "white",
            "ticks": ""
           },
           "baxis": {
            "gridcolor": "white",
            "linecolor": "white",
            "ticks": ""
           },
           "bgcolor": "#E5ECF6",
           "caxis": {
            "gridcolor": "white",
            "linecolor": "white",
            "ticks": ""
           }
          },
          "title": {
           "x": 0.05
          },
          "xaxis": {
           "automargin": true,
           "gridcolor": "white",
           "linecolor": "white",
           "ticks": "",
           "title": {
            "standoff": 15
           },
           "zerolinecolor": "white",
           "zerolinewidth": 2
          },
          "yaxis": {
           "automargin": true,
           "gridcolor": "white",
           "linecolor": "white",
           "ticks": "",
           "title": {
            "standoff": 15
           },
           "zerolinecolor": "white",
           "zerolinewidth": 2
          }
         }
        },
        "title": {
         "font": {
          "size": 16
         },
         "text": "Air Temperature Over Time"
        },
        "xaxis": {
         "anchor": "y",
         "domain": [
          0,
          1
         ],
         "title": {
          "text": "Time"
         }
        },
        "yaxis": {
         "anchor": "x",
         "domain": [
          0,
          1
         ],
         "title": {
          "text": "Temperature (°C)"
         }
        }
       }
      }
     },
     "metadata": {},
     "output_type": "display_data"
    }
   ],
   "source": [
    "import plotly.express as px\n",
    "\n",
    "fig = px.line(tsdata, x='Time', y='Value', title='Air Temperature Over Time')\n",
    "fig.update_xaxes(title_text='Time')\n",
    "fig.update_yaxes(title_text='Temperature (°C)')\n",
    "fig.update_layout(\n",
    "    font_family='Arial',\n",
    "    font_size=12,\n",
    "    title_font_size=16\n",
    ")\n",
    "fig.show()\n",
    "\n"
   ]
  },
  {
   "cell_type": "code",
   "execution_count": 6,
   "metadata": {},
   "outputs": [
    {
     "name": "stdout",
     "output_type": "stream",
     "text": [
      " + Checking forecast data...\n",
      "{'daily': [{'date': '2025-05-26', 'value': 5.09, 'label': 'daily cost'}, {'date': '2025-05-27', 'value': 5.27, 'label': 'daily cost'}, {'date': '2025-05-28', 'value': 5.64, 'label': 'daily cost'}, {'date': '2025-05-29', 'value': 5.49, 'label': 'daily cost'}, {'date': '2025-05-30', 'value': 5.39, 'label': 'daily cost'}, {'date': '2025-05-31', 'value': 5.37, 'label': 'daily cost'}, {'date': '2025-06-01', 'value': 5.98, 'label': 'daily cost'}], 'weekly': {'date': '2025-05-26', 'value': np.float64(38.23), 'label': 'Estimated weekly cost'}, 'monthly': {'date': '2025-05-30', 'value': np.float64(260.35), 'label': 'Estimated monthly bill', 'range': '12 May to 10 Jun'}}\n"
     ]
    }
   ],
   "source": [
    "DOWNLOADS_FOLDER = \"/Users/shodges/scripts/genesisenergy/data\"\n",
    "import pandas as pd\n",
    "import os\n",
    "\n",
    "def check_forecast_electricty_data():\n",
    "    \"\"\"\n",
    "    Load the forecast.csv file and return the latest daily (last 7), weekly, and monthly forecast values.\n",
    "    Dates are returned as ISO 8601 strings.\n",
    "\n",
    "    Args:\n",
    "        data_dir (str or Path): Directory where forecast.csv is stored.\n",
    "\n",
    "    Returns:\n",
    "        dict: {\n",
    "            'daily': List of dicts with keys 'date', 'value', 'label',\n",
    "            'weekly': Dict with keys 'date', 'value', 'label',\n",
    "            'monthly': Dict with keys 'date', 'value', 'label', 'range'\n",
    "        }\n",
    "    \"\"\"\n",
    "    \n",
    "    print(\" + Checking forecast data...\")\n",
    "\n",
    "    \n",
    "    file_path = DOWNLOADS_FOLDER + \"/forecasts.csv\"\n",
    "    df = pd.read_csv(file_path, parse_dates=[\"date\"], date_format=\"%Y-%m-%d\")\n",
    "\n",
    "    # Filter relevant durations\n",
    "    df = df[df[\"duration\"].isin([\"day\", \"week\", \"month\"])]\n",
    "\n",
    "    result = {}\n",
    "\n",
    "    # Last 7 daily forecasts\n",
    "    daily_df = df[df[\"duration\"] == \"day\"].sort_values(\"date\", ascending=False).head(7).sort_values(\"date\")\n",
    "    result[\"daily\"] = [\n",
    "        {\n",
    "            \"date\": row[\"date\"].date().isoformat(),\n",
    "            \"value\": row[\"value\"],\n",
    "            \"label\": row[\"forecast\"]\n",
    "        }\n",
    "        for _, row in daily_df.iterrows()\n",
    "    ]\n",
    "\n",
    "    # Latest weekly forecast\n",
    "    weekly_df = df[df[\"duration\"] == \"week\"]\n",
    "    if not weekly_df.empty:\n",
    "        latest_week = weekly_df.sort_values(\"date\", ascending=False).iloc[0]\n",
    "        result[\"weekly\"] = {\n",
    "            \"date\": latest_week[\"date\"].date().isoformat(),\n",
    "            \"value\": latest_week[\"value\"],\n",
    "            \"label\": latest_week[\"forecast\"]\n",
    "        }\n",
    "\n",
    "    # Latest monthly forecast\n",
    "    monthly_df = df[df[\"duration\"] == \"month\"]\n",
    "    if not monthly_df.empty:\n",
    "        latest_month = monthly_df.sort_values(\"date\", ascending=False).iloc[0]\n",
    "        result[\"monthly\"] = {\n",
    "            \"date\": latest_month[\"date\"].date().isoformat(),\n",
    "            \"value\": latest_month[\"value\"],\n",
    "            \"label\": latest_month[\"forecast\"],\n",
    "            \"range\": latest_month.get(\"label\", \"\")\n",
    "        }\n",
    "\n",
    "    return result\n",
    "\n",
    "test = check_forecast_electricty_data()\n",
    "print(test)"
   ]
  }
 ],
 "metadata": {
  "kernelspec": {
   "display_name": "dashenv",
   "language": "python",
   "name": "python3"
  },
  "language_info": {
   "codemirror_mode": {
    "name": "ipython",
    "version": 3
   },
   "file_extension": ".py",
   "mimetype": "text/x-python",
   "name": "python",
   "nbconvert_exporter": "python",
   "pygments_lexer": "ipython3",
   "version": "3.13.2"
  }
 },
 "nbformat": 4,
 "nbformat_minor": 2
}
